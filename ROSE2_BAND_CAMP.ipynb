{
 "cells": [
  {
   "cell_type": "markdown",
   "id": "93a49da0",
   "metadata": {},
   "source": [
    "# ROSE BAND Camp: Lets make UQ for an Optical Potential!"
   ]
  },
  {
   "cell_type": "markdown",
   "id": "f79d7c88",
   "metadata": {},
   "source": [
    "The purpose of this notebook is to guide you use ROSE to create a full Bayesian UQ study for an optical potential for two boty scattering, similar to what was done in: https://iopscience.iop.org/article/10.1088/1361-6471/abba72. In particular, we are studying the exact system and energy that was targeted to create the results in Figure 3 of : https://www.sciencedirect.com/science/article/pii/S0370269321007176.\n",
    "\n",
    "We will make use of surmise for the Bayesian part, while ROSE will be in charge of creating the emulator for the two-body scattering."
   ]
  },
  {
   "cell_type": "code",
   "execution_count": 1,
   "id": "9f333f2b",
   "metadata": {},
   "outputs": [],
   "source": [
    "import rose\n",
    "from surmise.emulation import emulator\n",
    "from surmise.calibration import calibrator\n",
    "\n",
    "import numpy as np\n",
    "import matplotlib.pyplot as plt\n",
    "import time\n",
    "import os\n",
    "\n",
    "from scipy.special import spherical_jn\n",
    "\n",
    "\n",
    "from scipy.stats import qmc\n",
    "\n",
    "import scipy.stats as sps\n",
    "\n",
    "import warnings\n",
    "\n",
    "import corner\n",
    "\n",
    "from tqdm import tqdm\n",
    "import seaborn as sns\n",
    "from matplotlib.lines import Line2D\n",
    "import random\n",
    "\n",
    "\n",
    "\n",
    "import datetime\n",
    "\n",
    "\n",
    "plt.style.use('science')\n",
    "plt.rcParams.update({'font.size': 12})\n",
    "gr = 4\n",
    "h = 3"
   ]
  },
  {
   "cell_type": "markdown",
   "id": "18af1269",
   "metadata": {},
   "source": [
    "## We define the system, the energies, and the parameters range here\n",
    "\n"
   ]
  },
  {
   "cell_type": "code",
   "execution_count": 2,
   "id": "05effeb4",
   "metadata": {},
   "outputs": [],
   "source": [
    "A=40\n",
    "\n",
    "AMU = 931.494102 # MeV/c^2, Particle Data Group\n",
    "MASS_N = 1.008665 * AMU # MeV/c^2 PDG\n",
    "MASS_P = 1.007276 * AMU # MeV/c^2 PDG\n",
    "B_40CA = 342.0522 # BMEX\n",
    "\n",
    "MASS_40CA = 20*MASS_P + 20*MASS_N - B_40CA\n",
    "MU = MASS_40CA * MASS_N / (MASS_40CA + MASS_N)\n",
    "\n",
    "energy = 20 # center-of-mass scattering energy, fixed for this example\n",
    "k = np.sqrt(2*MU*energy)/rose.constants.HBARC\n",
    "\n",
    "\n",
    "l_max = 10\n",
    "l_list=list(range(l_max+1))\n"
   ]
  },
  {
   "cell_type": "code",
   "execution_count": 3,
   "id": "15fa4119",
   "metadata": {},
   "outputs": [],
   "source": [
    "#Angles in where we would like to compute cross sections for plotting purposes\n",
    "angles=np.linspace(1,180,180)\n"
   ]
  },
  {
   "cell_type": "code",
   "execution_count": 4,
   "id": "ff7afdb6",
   "metadata": {},
   "outputs": [],
   "source": [
    "#Angles in where we would like to compute cross sections for calibration purposes (choosing it to mock an experimental\n",
    "#data set up). We choose them as indices for a subset of the previous angles\n",
    "anglesX=np.array(list(range(0,180,10)))"
   ]
  },
  {
   "cell_type": "code",
   "execution_count": 6,
   "id": "24b9e95a",
   "metadata": {},
   "outputs": [],
   "source": [
    "#Interaction\n",
    "\n",
    "def wood_saxon(r, R, a):\n",
    "    return 1/(1 + np.exp((r-R)/a))\n",
    "\n",
    "\n",
    "def wood_saxon_prime(r, R, a):\n",
    "    return -1/a * np.exp((r-R)/a) / (1 + np.exp((r-R)/a))**2\n",
    "\n",
    "\n",
    "def optical_potential(r, theta):\n",
    "    Vv, Wv, Wd, Rv, Rd, av, ad = theta\n",
    "    return -Vv * wood_saxon(r, Rv, av) - \\\n",
    "           1j*Wv * wood_saxon(r, Rv, av) - \\\n",
    "           4j*ad*Wd * wood_saxon_prime(r, Rd, ad)\n",
    "\n",
    "potential_parameters=7\n",
    "\n",
    "\n",
    "#If you want to play with an optical potential of 9 parameters instead:\n",
    "# def optical_potential(r, theta):\n",
    "#     Vv, Wv, Wd, Rv, Rw, Rd, av, aw, ad = theta\n",
    "#     return -Vv * wood_saxon(r, Rv, av) - \\\n",
    "#            1j*Wv * wood_saxon(r, Rw, aw) - \\\n",
    "#            4j*ad*Wd * wood_saxon_prime(r, Rd, ad)\n",
    "# potential_parameters=9\n",
    "\n",
    "\n",
    "\n"
   ]
  },
  {
   "cell_type": "code",
   "execution_count": 7,
   "id": "2617cb2b",
   "metadata": {},
   "outputs": [],
   "source": [
    "#Parameters region and sampling for training. \n",
    "\n",
    "Vv0 = 45\n",
    "Wv0 = 2\n",
    "Wd0 = -7\n",
    "\n",
    "Rv0 = 4\n",
    "Rw0 = 4\n",
    "Rd0 = 4\n",
    "\n",
    "av0 = 0.6\n",
    "aw0 = 0.6\n",
    "ad0 = 0.6\n",
    "\n",
    "\n",
    "#This is the center of our prior and around where we will train our RBM emulator\n",
    "alphaCentral = np.array([Vv0, Wv0, Wd0, Rv0, Rd0, av0 , ad0])\n",
    "\n",
    "VvKD = 46.7238\n",
    "WvKD = 1.72334\n",
    "WdKD= -7.2357\n",
    "\n",
    "RvKD = 4.0538\n",
    "# RwKD = 4.0538\n",
    "RdKD = 4.4055\n",
    "\n",
    "avKD = 0.6718\n",
    "# awKD = 0.6718\n",
    "adKD = 0.5379\n",
    "\n",
    "\n",
    "\n",
    "#This is the value of the parameters coming from the Koning-Delaroche parametrization. Taken from https://www-nds.iaea.org/RIPL-3/\n",
    "alphaKD = np.array([VvKD, WvKD, WdKD, RvKD, RdKD, avKD , adKD])"
   ]
  },
  {
   "cell_type": "code",
   "execution_count": 8,
   "id": "20cc2891",
   "metadata": {},
   "outputs": [],
   "source": [
    "#Creating a scale for how much the parameters will wiggle for the emulator training. \n",
    "# Afterwards we sample from a latin hyper cube for training, but use this scales also for\n",
    "# the testing sampling which we do it with a Gaussian\n",
    "scaleTraining=0.2\n",
    "\n",
    "bounds_Vv_Scale = abs(Vv0*(scaleTraining))\n",
    "bounds_Wv_Scale = abs(Wv0*(scaleTraining))\n",
    "bounds_Wd_Scale = abs(Wd0*(scaleTraining))\n",
    "\n",
    "bounds_Rv_Scale = abs(Rv0*(scaleTraining))\n",
    "# bounds_Rw_Scale = abs(Rw0*(scaleTraining))\n",
    "bounds_Rd_Scale = abs(Rd0*(scaleTraining))\n",
    "\n",
    "bounds_av_Scale = abs(av0*(scaleTraining))\n",
    "# bounds_aw_Scale = abs(aw0*(scaleTraining))\n",
    "bounds_ad_Scale = abs(ad0*(scaleTraining))\n",
    "\n",
    "\n",
    "\n",
    "\n",
    "bounds_Vv = [Vv0-bounds_Vv_Scale, Vv0+bounds_Vv_Scale]\n",
    "bounds_Wv = [Wv0-bounds_Wv_Scale, Wv0+bounds_Wv_Scale]\n",
    "bounds_Wd = [Wd0-bounds_Wd_Scale, Wd0+bounds_Wd_Scale]\n",
    "\n",
    "bounds_Rv = [Rv0-bounds_Rv_Scale, Rv0+bounds_Rv_Scale]\n",
    "# bounds_Rw = [Rw0-bounds_Rw_Scale, Rw0+bounds_Rw_Scale]\n",
    "bounds_Rd = [Rd0-bounds_Rd_Scale, Rd0+bounds_Rd_Scale]\n",
    "\n",
    "bounds_av = [av0-bounds_av_Scale, av0+bounds_av_Scale]\n",
    "# bounds_aw = [aw0-bounds_aw_Scale, aw0+bounds_aw_Scale]\n",
    "bounds_ad = [ad0-bounds_ad_Scale, ad0+bounds_ad_Scale]\n",
    "\n",
    "\n",
    "bounds = np.array([\n",
    "    \n",
    "    bounds_Vv,\n",
    "    bounds_Wv,\n",
    "    bounds_Wd,\n",
    "    \n",
    "    bounds_Rv,\n",
    "#     bounds_Rw,\n",
    "    bounds_Rd,\n",
    "    \n",
    "    bounds_av,\n",
    "#     bounds_aw,\n",
    "    bounds_ad\n",
    "    \n",
    "])\n"
   ]
  },
  {
   "cell_type": "code",
   "execution_count": 19,
   "id": "11169f7c",
   "metadata": {},
   "outputs": [],
   "source": [
    "#Lets define how many training samples we want to use for our reduced basis. For the first round, we limit to 50 to go fast,\n",
    "#but you could try with more!\n",
    "\n",
    "n_train=50\n",
    "\n",
    "\n",
    "sampler = qmc.LatinHypercube(d=len(bounds), seed=142857)\n",
    "\n",
    "sample = sampler.random(n_train)\n",
    "train = qmc.scale(sample, bounds[:, 0], bounds[:, 1])\n",
    "\n",
    "np.savetxt(\"train_params.txt\",train)"
   ]
  },
  {
   "cell_type": "code",
   "execution_count": 9,
   "id": "2484d347",
   "metadata": {},
   "outputs": [],
   "source": [
    "#Training the Empirical Interpolation Method is way cheaper, since we have the form of the potential explicitely.\n",
    "#That is why we use 1,000 samples here\n",
    "\n",
    "n_train_EIM=1000\n",
    "\n",
    "\n",
    "sampler = qmc.LatinHypercube(d=len(bounds), seed=142857)\n",
    "\n",
    "sample = sampler.random(n_train_EIM)\n",
    "train_EIM = qmc.scale(sample, bounds[:, 0], bounds[:, 1])\n",
    "np.savetxt(\"train_params_EIM.txt\",train_EIM)"
   ]
  },
  {
   "cell_type": "code",
   "execution_count": 10,
   "id": "36c1f07a",
   "metadata": {},
   "outputs": [],
   "source": [
    "#The following test parameters will be used for the CAT plot\n",
    "n_test=50\n",
    "\n",
    "\n",
    "sampler = qmc.LatinHypercube(d=len(bounds), seed=142857)\n",
    "\n",
    "sample = sampler.random(n_test)\n",
    "test_params = qmc.scale(sample, bounds[:, 0], bounds[:, 1])\n",
    "np.savetxt(\"test_params.txt\",test_params)"
   ]
  },
  {
   "cell_type": "code",
   "execution_count": 11,
   "id": "2cb78b1b",
   "metadata": {},
   "outputs": [],
   "source": [
    "#We define the interaction to use, in this case, the optical potential \n",
    "interaction=rose.Interaction(\n",
    "        optical_potential,\n",
    "        7,\n",
    "        MU,\n",
    "        energy,\n",
    "    is_complex = True,\n",
    "    )\n",
    "\n"
   ]
  },
  {
   "cell_type": "code",
   "execution_count": 12,
   "id": "dfd1a378",
   "metadata": {},
   "outputs": [],
   "source": [
    "# This is the high fidelity solver we will use to get the wave functions for training our RBM.\n",
    "#The tolerances control the precision of the high fidelity solver (which uses a Runge-Kuta method).\n",
    "#The smaller these numbers, the more precise it will be but the longer it will take to compute solutions \n",
    "HF_solver=rose.SchroedingerEquation(\n",
    "        interaction,\n",
    "        hifi_tolerances=[1e-9, 1e-9]\n",
    "    ) "
   ]
  },
  {
   "cell_type": "code",
   "execution_count": 13,
   "id": "7c2aed69",
   "metadata": {},
   "outputs": [],
   "source": [
    "#Defining our scaled \"radial\" coordinate\n",
    "rho = rose.constants.DEFAULT_RHO_MESH.copy()"
   ]
  },
  {
   "cell_type": "code",
   "execution_count": 14,
   "id": "13cde2be",
   "metadata": {},
   "outputs": [],
   "source": [
    "#In the following we train a \"dummy\" emulator that will serve as our high fidelity amplitude calculator.\n",
    "#We don't directly use the HF_solver in the previous lines in this version of ROSE. The updated one \n",
    "#will have full access to cross sections and amplitudes on the HF_solver side.\n",
    "\n",
    "\n",
    "warnings.filterwarnings(\"ignore\", category=RuntimeWarning)\n",
    "n_trainSmall=3\n",
    "\n",
    "sampler = qmc.LatinHypercube(d=len(bounds), seed=142857)\n",
    "\n",
    "sample = sampler.random(n_trainSmall)\n",
    "trainSMALL = qmc.scale(sample, bounds[:, 0], bounds[:, 1])\n",
    "\n"
   ]
  },
  {
   "cell_type": "code",
   "execution_count": 15,
   "id": "6747237d",
   "metadata": {},
   "outputs": [
    {
     "name": "stderr",
     "output_type": "stream",
     "text": [
      "100%|███████████████████████████████████████████████████████████████████████████████████| 11/11 [00:03<00:00,  2.93it/s]\n"
     ]
    },
    {
     "name": "stdout",
     "output_type": "stream",
     "text": [
      "CPU times: user 7.62 s, sys: 8.07 s, total: 15.7 s\n",
      "Wall time: 4.39 s\n"
     ]
    }
   ],
   "source": [
    "\n",
    "%%time\n",
    "saeExact = rose.ScatteringAmplitudeEmulator.from_train(\n",
    "    interaction,\n",
    "    trainSMALL,\n",
    "    l_max,\n",
    "    n_basis = 2,\n",
    "    angles = angles/180*np.pi,\n",
    "    hf_tols=[10**(-9),10**(-9)]\n",
    ")\n"
   ]
  },
  {
   "cell_type": "code",
   "execution_count": 16,
   "id": "a9db61f1",
   "metadata": {},
   "outputs": [
    {
     "name": "stderr",
     "output_type": "stream",
     "text": [
      "100%|███████████████████████████████████████████████████████████████████████████████████| 50/50 [01:01<00:00,  1.24s/it]\n"
     ]
    }
   ],
   "source": [
    "#Now we calculated the exact amplitude (and cross section) for the test parameters we have\n",
    "\n",
    "test_CS=[]\n",
    "for params in tqdm(test_params):\n",
    "    testval=saeExact.exact(params)\n",
    "    test_CS.append(10*np.conj(testval)*testval)\n",
    "np.savetxt(\"test_CS.txt\",test_CS)\n",
    "\n",
    "\n",
    "\n",
    "test_CS=np.loadtxt(\"test_CS.txt\",dtype=np.complex_)\n"
   ]
  },
  {
   "cell_type": "code",
   "execution_count": null,
   "id": "4befb1a4",
   "metadata": {},
   "outputs": [],
   "source": [
    "#Lets plot these cross sections to see how they look. In principle, since our parameters are around the\n",
    "# Koning-Delaroche parametrization they should all be relatively similar to\n",
    "#figure 3 of https://www.sciencedirect.com/science/article/pii/S0370269321007176\n",
    "\n",
    "fig, ax = plt.subplots(figsize=(6,4),dpi=300)\n",
    "fig.patch.set_facecolor('white')\n",
    "\n",
    "\n",
    "\n",
    "for i in range(50):\n",
    "    ax.plot(angles, test_CS[i])\n",
    "ax.set_yscale('log')\n",
    "ax.set_xlabel(r'$\\theta$')\n",
    "ax.set_ylabel(r'$d\\sigma/d\\Omega$ (mb)');"
   ]
  },
  {
   "cell_type": "code",
   "execution_count": 17,
   "id": "6573b4a5",
   "metadata": {},
   "outputs": [],
   "source": [
    "#Here we create the high fidelity solutions (wave functions) we will use to train our emulator. They are stored\n",
    "# as pickled objects so we don't have to solve the high fidelity solutions every time for each new emulator"
   ]
  },
  {
   "cell_type": "code",
   "execution_count": 20,
   "id": "da87cce0",
   "metadata": {},
   "outputs": [
    {
     "name": "stderr",
     "output_type": "stream",
     "text": [
      "100%|███████████████████████████████████████████████████████████████████████████████████| 11/11 [00:12<00:00,  1.16s/it]"
     ]
    },
    {
     "name": "stdout",
     "output_type": "stream",
     "text": [
      "CPU times: user 12.7 s, sys: 0 ns, total: 12.7 s\n",
      "Wall time: 12.7 s\n"
     ]
    },
    {
     "name": "stderr",
     "output_type": "stream",
     "text": [
      "\n"
     ]
    }
   ],
   "source": [
    "%%time\n",
    "phis_list=[]\n",
    "for l in tqdm(l_list):\n",
    "    phis = np.array([HF_solver.phi(energy,alpha, rho, l) for alpha in train], dtype=np.complex128)\n",
    "    np.save(f'hf_phis_train_energy_l_{l}.npy',\n",
    "        np.vstack((rho, phis)))\n",
    "    phis_list.append(phis)\n",
    "    "
   ]
  },
  {
   "cell_type": "code",
   "execution_count": 21,
   "id": "04be55c8",
   "metadata": {},
   "outputs": [],
   "source": [
    "files = list(filter(lambda f: 'hf_phis_train' in f, os.listdir()))"
   ]
  },
  {
   "cell_type": "code",
   "execution_count": 22,
   "id": "8afb5bbc",
   "metadata": {},
   "outputs": [],
   "source": [
    "#The following function trains a ROSE emulator for a given configuration of [n_basis_wave-functions,m_basis_EIM].\n",
    "#See how rho0 is created by the free solution, and the reduced basis is created by the first n_basis principal\n",
    "#components of the deviations from the free solution\n",
    "\n",
    "def emulator_trainer(Sae_config):\n",
    "    \n",
    "    opLoop = rose.InteractionEIM(\n",
    "    optical_potential,\n",
    "    7,\n",
    "    MU,\n",
    "    energy,\n",
    "    train_EIM,\n",
    "    is_complex = True,\n",
    "    explicit_training = True,\n",
    "    n_basis = Sae_config[1])\n",
    "    \n",
    "    \n",
    "    bases = []\n",
    "   #Building the basis# \n",
    "   ################### \n",
    "    for l in l_list:\n",
    "        file_l = list(filter(lambda f: f'l_{l}' in f, files))\n",
    "        data = np.load(file_l[0])\n",
    "        rho = data[0].real\n",
    "        phi_0 = np.array([z*spherical_jn(l, z) for z in rho], dtype=np.float64)\n",
    "        phis = data[1:]\n",
    "        \n",
    "        basis = rose.CustomBasis(\n",
    "            phis.T,\n",
    "            phi_0,\n",
    "            rho,\n",
    "            Sae_config[0],\n",
    "            l,\n",
    "            use_svd=True\n",
    "        )\n",
    "        bases.append(basis)\n",
    "\n",
    "   ################### \n",
    "    \n",
    "    return rose.ScatteringAmplitudeEmulator(opLoop, bases, l_max,angles=angles/180*np.pi)\n",
    "\n",
    "    "
   ]
  },
  {
   "cell_type": "code",
   "execution_count": 25,
   "id": "7605f44d",
   "metadata": {},
   "outputs": [],
   "source": [
    "#Try creating some configurations for the RB emulator and for the HF solver for the CAT plot. Below are some suggestions\n",
    "# from what we have used\n",
    "\n",
    "Sae_configs=\\\n",
    "# [[3,3],\n",
    "# [8,14],\n",
    "# [14,8],\n",
    "# [14,14],\n",
    "# [18,18]]\n",
    "\n",
    "\n",
    "HF_configs=\\\n",
    "# [-1.0,-2,-3,-5,-7]"
   ]
  },
  {
   "cell_type": "code",
   "execution_count": 27,
   "id": "7ded7967",
   "metadata": {},
   "outputs": [
    {
     "name": "stderr",
     "output_type": "stream",
     "text": [
      "100%|█████████████████████████████████████████████████████████████████████████████████████| 5/5 [00:12<00:00,  2.41s/it]\n"
     ]
    }
   ],
   "source": [
    "#Once the configurations have been decided, the following two cells will create the emulators and high fidelity solvers\n",
    "\n",
    "Sae_Emulators={}\n",
    "\n",
    "for saeconfig in tqdm(Sae_configs):\n",
    "    key = f'sae_{saeconfig[0]}_{saeconfig[1]}'\n",
    "    Sae_Emulators[key]=emulator_trainer(saeconfig)\n",
    "    \n",
    "\n",
    "    \n",
    "#The following will save the emulators locally, but it can take up a bit of space so we are commeting it out.\n",
    "# for saeconfig in tqdm(Sae_configs):\n",
    "#     key = f'sae_{saeconfig[0]}_{saeconfig[1]}'\n",
    "#     Sae_Emulators[key].save(f'sae_n_{saeconfig[0]}_m_{saeconfig[1]}.pkl')\n",
    "    \n",
    "\n"
   ]
  },
  {
   "cell_type": "code",
   "execution_count": 28,
   "id": "f3efadd9",
   "metadata": {
    "scrolled": false
   },
   "outputs": [
    {
     "name": "stderr",
     "output_type": "stream",
     "text": [
      "100%|███████████████████████████████████████████████████████████████████████████████████| 11/11 [00:03<00:00,  3.51it/s]\n",
      "100%|███████████████████████████████████████████████████████████████████████████████████| 11/11 [00:03<00:00,  3.55it/s]\n",
      "100%|███████████████████████████████████████████████████████████████████████████████████| 11/11 [00:03<00:00,  3.57it/s]\n",
      "100%|███████████████████████████████████████████████████████████████████████████████████| 11/11 [00:03<00:00,  3.49it/s]\n",
      "100%|███████████████████████████████████████████████████████████████████████████████████| 11/11 [00:03<00:00,  3.29it/s]\n"
     ]
    }
   ],
   "source": [
    "HF_Solvers={}\n",
    "\n",
    "for HFconfig in HF_configs:\n",
    "    key = f'HF_{-HFconfig}'\n",
    "    HF_Solvers[key]=rose.ScatteringAmplitudeEmulator.from_train(\n",
    "    interaction,\n",
    "    trainSMALL,\n",
    "    l_max,\n",
    "    n_basis = 2,\n",
    "    angles = angles/180*np.pi,\n",
    "    hf_tols=[10**(HFconfig),10**(HFconfig)])\n",
    "    \n",
    "    \n",
    "# for HFconfig in tqdm(HF_configs):\n",
    "#     key = f'HF_{-HFconfig}'\n",
    "#     HF_Solvers[key].save(f'Exact_tol_{-HFconfig}.pkl')\n"
   ]
  },
  {
   "cell_type": "code",
   "execution_count": 29,
   "id": "81bf952e",
   "metadata": {},
   "outputs": [],
   "source": [
    "#If they were stored, the following lines can be used to load the emulators and HF solvers\n",
    "\n",
    "# Sae_Emulators={}\n",
    "\n",
    "# for saeconfig in tqdm(Sae_configs):\n",
    "#     key = f'sae_{saeconfig[0]}_{saeconfig[1]}'\n",
    "#     Sae_Emulators[key]=rose.ScatteringAmplitudeEmulator.load(f'sae_n_{saeconfig[0]}_m_{saeconfig[1]}.pkl')\n",
    "\n",
    "\n",
    "# HF_Solvers={}\n",
    "\n",
    "# for HFconfig in tqdm(HF_configs):\n",
    "#     key = f'HF_{-HFconfig}'\n",
    "#     HF_Solvers[key]=rose.ScatteringAmplitudeEmulator.load(f'Exact_tol_{-HFconfig}.pkl')\n"
   ]
  },
  {
   "cell_type": "code",
   "execution_count": 30,
   "id": "b21a222c",
   "metadata": {},
   "outputs": [],
   "source": [
    "#This function creates the data necessary to make a CAT plot, while the two next cells create the data for emulators and HF\n",
    "\n",
    "def CAT_Data_Maker(CS_calculator,test_parameters,test_data):\n",
    "\n",
    "    #Both the predictions and the test_data are evaluated at the [anglesX] of interest\n",
    "    \n",
    "    prediction_list=[]\n",
    "    times_list=[]\n",
    "    for i in range(len(test_parameters)):\n",
    "        st = time.time()\n",
    "        predicted=CS_calculator(test_parameters[i])[anglesX]\n",
    "        et = time.time()\n",
    "        prediction_list.append(abs(10*np.conj(predicted)*predicted))\n",
    "        times_list.append(et-st)\n",
    "        \n",
    "    residual_list=[]\n",
    "    residual_list_median=[]\n",
    "    for i in range(len(test_parameters)):\n",
    "        \n",
    "        residual_list.append(np.real(abs((prediction_list[i]-test_data[i][anglesX]))\\\n",
    "                                     /(test_data[i][anglesX])))\n",
    "        residual_list_median.append(np.median(residual_list[i]))\n",
    "        \n",
    "    return [times_list,residual_list_median,residual_list,prediction_list]\n",
    "        "
   ]
  },
  {
   "cell_type": "code",
   "execution_count": 31,
   "id": "7db33e8b",
   "metadata": {},
   "outputs": [
    {
     "name": "stderr",
     "output_type": "stream",
     "text": [
      "100%|█████████████████████████████████████████████████████████████████████████████████████| 5/5 [00:00<00:00, 17.58it/s]\n"
     ]
    }
   ],
   "source": [
    "CAT_Emulator_Data={}\n",
    "\n",
    "for sae in tqdm(Sae_Emulators):\n",
    "    \n",
    "    CAT_Data=CAT_Data_Maker(Sae_Emulators[sae].predict,test_params,test_CS)\n",
    "    \n",
    "    CAT_Emulator_Data[sae]={'times':CAT_Data[0],'median_residuals':CAT_Data[1],'residuals_list':CAT_Data[2],\n",
    "                                    'full_predictions':CAT_Data[3]}\n",
    "\n",
    "    \n",
    "\n"
   ]
  },
  {
   "cell_type": "code",
   "execution_count": 32,
   "id": "973d60ce",
   "metadata": {},
   "outputs": [
    {
     "name": "stderr",
     "output_type": "stream",
     "text": [
      "100%|█████████████████████████████████████████████████████████████████████████████████████| 5/5 [00:42<00:00,  8.42s/it]\n"
     ]
    }
   ],
   "source": [
    "CAT_HF_Data={}\n",
    "\n",
    "for HF in tqdm(HF_Solvers):\n",
    "    \n",
    "    CAT_Data=CAT_Data_Maker(HF_Solvers[HF].exact,test_params,test_CS)\n",
    "    \n",
    "    CAT_HF_Data[HF]={'times':CAT_Data[0],'median_residuals':CAT_Data[1],'residuals_list':CAT_Data[2],\n",
    "                                    'full_predictions':CAT_Data[3]}\n",
    "\n",
    "    \n",
    "\n"
   ]
  },
  {
   "cell_type": "code",
   "execution_count": 33,
   "id": "13e2840c",
   "metadata": {},
   "outputs": [],
   "source": [
    "#These are some colors I really like :) \n",
    "\n",
    "colors = ['#1f77b4', '#ff7f0e', '#2ca02c', '#d62728', '#9467bd', '#8c564b', '#e377c2', '#7f7f7f', '#bcbd22', '#17becf']"
   ]
  },
  {
   "cell_type": "code",
   "execution_count": null,
   "id": "d87c25c3",
   "metadata": {},
   "outputs": [],
   "source": [
    "#Writing this took some time, you don't have to go into much detail on it, just click go and it should make the CAT plot\n",
    "\n",
    "#The only important input is what would your targets for speed and accuracy be. We put 1% for the accuracy goal and\n",
    "#1 million samples per hour, but you can select different goals\n",
    "\n",
    "accuracy_goal=0.01\n",
    "time_goal=0.036\n",
    "\n",
    "fig, ax = plt.subplots(figsize=(15,7),dpi=400)\n",
    "\n",
    "\n",
    "custom_lines = []\n",
    "\n",
    "custom_lines.append(Line2D([], [], color='w', marker='X', linestyle='None',\n",
    "                          markersize=20, label='[$n_\\phi$, $n_U$]'))\n",
    "\n",
    "level_sns=0.05\n",
    "\n",
    "\n",
    "\n",
    "i=0\n",
    "for sae in Sae_Emulators:\n",
    "\n",
    "    data_sae=[\n",
    "\n",
    "        np.array([np.full(len(angles[anglesX]), j) for j in CAT_Emulator_Data[sae]['times']]).flatten(),\n",
    "        np.array(CAT_Emulator_Data[sae]['residuals_list']).flatten()]\n",
    "    data_sae=np.array(data_sae)\n",
    "\n",
    "    \n",
    "    sns.kdeplot(x=data_sae[0], y=data_sae[1],levels=[level_sns,1],color=colors[i],log_scale=[True,True],fill=True,alpha=0.6)\n",
    "    \n",
    "    sns.kdeplot(x=data_sae[0], y=data_sae[1],levels=[level_sns],color=colors[i],log_scale=[True,True],\n",
    "                linewidths=3,linestyles='dashed')\n",
    "    ax.scatter(data_sae[0],data_sae[1],s=5,color=colors[i])\n",
    "    \n",
    "    custom_lines.append(Line2D([], [], color=colors[i], marker='o', linestyle='None',\n",
    "                          markersize=20, label=str(Sae_configs[i])))\n",
    "    \n",
    "\n",
    "    i=i+1\n",
    "\n",
    "\n",
    "    \n",
    "    \n",
    "    \n",
    "    \n",
    "    \n",
    "i=0\n",
    "for HF in HF_Solvers:\n",
    "\n",
    "    data_hf=[np.array([np.full(len(angles[anglesX]), j) for j in CAT_HF_Data[HF]['times']]).flatten(),\n",
    "             np.array(CAT_HF_Data[HF]['residuals_list']).flatten()]\n",
    "    \n",
    "    data_hf=np.array(data_hf)\n",
    "    \n",
    "    \n",
    "    \n",
    "    sns.kdeplot(x=data_hf[0], y=data_hf[1],levels=[level_sns,1],color='b',log_scale=[True,True],fill=True,alpha=0.6)\n",
    "    \n",
    "    sns.kdeplot(x=data_hf[0], y=data_hf[1],levels=[level_sns],color='b',log_scale=[True,True],\n",
    "                linewidths=3,linestyles='dashed')\n",
    "    ax.scatter(data_hf[0],data_hf[1],s=5,color='b')\n",
    "    \n",
    "\n",
    "\n",
    "    i=i+1\n",
    "\n",
    "    \n",
    "custom_lines.append(Line2D([], [], color='b', marker='o', linestyle='None',\n",
    "                           markersize=20, label='RK-45'))\n",
    "ax.legend(handles=custom_lines,fontsize=22,frameon=True, edgecolor='black') \n",
    "    \n",
    "ax.plot([10**(-4),time_goal],[accuracy_goal,accuracy_goal], color='k', linewidth=1,linestyle='dashed')\n",
    "    \n",
    "    \n",
    "ax.plot([time_goal,time_goal],[10**(-9),accuracy_goal], color='k', linewidth=1,linestyle='dashed')  \n",
    "    \n",
    "    \n",
    "    \n",
    "    \n",
    "\n",
    "ax.set_xscale('log')\n",
    "ax.set_yscale('log')\n",
    "\n",
    "\n",
    "ax.set_xlabel('Time (s)',fontsize=23)\n",
    "ax.set_ylabel('Median Relative error Diff. Cross Sec. ',fontsize=23)\n",
    "\n",
    "\n",
    "plt.rc('xtick', labelsize=20)    \n",
    "plt.rc('ytick', labelsize=20)\n",
    "\n",
    "plt.xlim(2*10**(-4), 3*10**(0))\n",
    "plt.ylim(10**(-8), 10**(1))\n",
    "\n",
    "# show the plot\n",
    "plt.show()"
   ]
  },
  {
   "cell_type": "markdown",
   "id": "d72e5873",
   "metadata": {},
   "source": [
    "# Going Bayesian with surmise!"
   ]
  },
  {
   "cell_type": "code",
   "execution_count": 44,
   "id": "1b28422e",
   "metadata": {},
   "outputs": [],
   "source": [
    "#We should select the emulator that gave the optimal tradeoff for our purposes. Bellow is an example of what we chose\n",
    "#before, the 14-14 configuration\n",
    "saeMCMC = \n",
    "# saeMCMC = Sae_Emulators['sae_14_14']"
   ]
  },
  {
   "cell_type": "code",
   "execution_count": 45,
   "id": "b9400759",
   "metadata": {},
   "outputs": [
    {
     "data": {
      "image/png": "[encoded data removed]",
      "text/plain": [
       "<Figure size 420x315 with 1 Axes>"
      ]
     },
     "metadata": {},
     "output_type": "display_data"
    }
   ],
   "source": [
    "#The following lines create the data we will use to fit our model. We assume 10% error in the cross sections\n",
    "#and plot the true values and the \"observed\" ones, those that were fluctuated by 10%\n",
    "\n",
    "alphatarget=alphaKD\n",
    "#The target parameter, this will generate the data\n",
    "\n",
    "anglesindexs=anglesX\n",
    "\n",
    "f_exact = saeExact.exact(alphatarget)\n",
    "\n",
    "\n",
    "X = np.array(anglesindexs)\n",
    "\n",
    "yperfect = np.real(10*np.conj(f_exact[X])*f_exact[X])\n",
    "\n",
    "yerr = yperfect*0.1\n",
    "\n",
    "np.random.seed(142857)\n",
    "\n",
    "y=[]\n",
    "\n",
    "for i in range(len(yperfect)):\n",
    "    y.append(yperfect[i]+np.random.normal(0, yerr[i]))\n",
    "\n",
    "y=np.array(y)\n",
    "\n",
    "fig, ax = plt.subplots(dpi=120)\n",
    "fig.patch.set_facecolor('white')\n",
    "\n",
    "\n",
    "\n",
    "ax.scatter(anglesX, yperfect, label='Exact Values')\n",
    "ax.scatter(anglesX, y, label ='``Observed\"')\n",
    "ax.legend()\n",
    "ax.set_yscale('log')\n",
    "ax.set_xlabel(r'$\\theta$')\n",
    "ax.set_ylabel(r'$d\\sigma/d\\Omega$ (mb)');"
   ]
  },
  {
   "cell_type": "markdown",
   "id": "81254730",
   "metadata": {},
   "source": [
    "## Specifying the prior:"
   ]
  },
  {
   "cell_type": "code",
   "execution_count": 47,
   "id": "1826f893",
   "metadata": {},
   "outputs": [],
   "source": [
    "#In this default we are assuming uncorrelated Gaussian priors. \n",
    "\n",
    "#Specifying the priors\n",
    "alphaCentralPrior= [45, 1.5,-7.0,  4.0,4.0,  0.6,0.6]\n",
    "\n",
    "SigmasPrior= [abs(boundval * 0.5) for boundval in alphaCentralPrior]\n",
    "\n",
    "\n",
    "\n",
    "\n",
    "#We use a smaller scale for the starting values of the MCMC chains so that we minimize the chances of one\n",
    "#starting in a negative value of the diffuseness or the radii\n",
    "MCMCScale= [abs(boundval * 0.1) for boundval in alphaCentralPrior]\n"
   ]
  },
  {
   "cell_type": "code",
   "execution_count": 48,
   "id": "55db12d2",
   "metadata": {},
   "outputs": [],
   "source": [
    "#This cell specifies the configuration for the Monte Carlo sampling with surmise. You could play by changing the\n",
    "#number of chains, the number of samples per chain, the step size or the burning in samples. \n",
    "\n",
    "StepSizes0=0.004*np.abs(np.array([Vv0,5*Wv0, Wd0, Rv0,Rd0, av0, ad0]))\n",
    "numsamp = 5000\n",
    "total_chains=5\n",
    "# numcores=12\n",
    "BurnSamples0=500"
   ]
  },
  {
   "cell_type": "code",
   "execution_count": 49,
   "id": "c9474265",
   "metadata": {},
   "outputs": [],
   "source": [
    "#We define all the functions surmise needs\n",
    "\n",
    "class prior_scattering:\n",
    "    \"\"\" This defines the class instance of priors provided to the method. \"\"\"\n",
    "\n",
    "\n",
    "    def lpdf(theta):\n",
    "        \n",
    "        total_prior_pdf=sps.norm.logpdf(theta[:, 0], alphaCentralPrior[0],SigmasPrior[0] )\n",
    "        \n",
    "        for i in range(1,len(alphaCentralPrior)):\n",
    "            total_prior_pdf=total_prior_pdf+ sps.norm.logpdf(theta[:, i], alphaCentralPrior[i],SigmasPrior[i] )\n",
    "            \n",
    "            \n",
    "            \n",
    "        return (total_prior_pdf).reshape((len(theta), 1))\n",
    "\n",
    "\n",
    "    def rnd(n):\n",
    "        totalRandomSamples=[]\n",
    "        for i in range(len(alphaCentralPrior)):\n",
    "            totalRandomSamples.append(sps.norm.rvs( alphaCentralPrior[i], MCMCScale[i],   size=n))\n",
    "        \n",
    "        totalRandomSamplesNumpy=np.array(totalRandomSamples)\n",
    "        \n",
    "        return totalRandomSamplesNumpy.T\n",
    "        \n",
    "        \n",
    "        \n",
    "        \n",
    "    \n",
    "def rbm_emulator(x,theta):\n",
    "    yList=[]\n",
    "    for i in range(len(theta)):\n",
    "        AmplitudeEm=saeMCMC.predict(theta[i])\n",
    "        yList.append(10*np.real(np.conj(AmplitudeEm[x])*AmplitudeEm[x]))\n",
    "        notfinite = np.logical_not(np.isfinite(10*np.real(np.conj(AmplitudeEm[x])*AmplitudeEm[x])))\n",
    "        if(np.any(notfinite)):\n",
    "            print(\"Not finite :(. For theta: \",theta[i])\n",
    "            print(\"Bad boy was: \",yList[i])\n",
    "    return np.array(yList).T\n",
    "\n",
    "    \n",
    "    \n",
    "def calibration_runner(rbm,x,y,obsvar,test_params,numsamp,i,caldir):\n",
    "   \n",
    "    cal = calibrator(emu=rbm,\n",
    "                   y=y,\n",
    "                   x=x,\n",
    "                   thetaprior=prior_scattering, \n",
    "                   method='directbayes',\n",
    "                   yvar=obsvar, \n",
    "                   args={\n",
    "                        'theta0': test_params.reshape(1,7),\n",
    "                        'sampler': 'metropolis_hastings',\n",
    "                         'numsamp' : numsamp,\n",
    "                         'stepType' : 'normal',\n",
    "                         'stepParam' : StepSizes0,\n",
    "                        'burnSamples' : BurnSamples0\n",
    "                   })\n",
    "                       \n",
    " \n",
    "    calfile = os.path.join(caldir,\"caltheta_{}.out\".format(i))\n",
    "    np.savetxt(calfile,cal.info['thetarnd'])\n",
    "\n",
    "    return cal.info['thetarnd']"
   ]
  },
  {
   "cell_type": "code",
   "execution_count": 50,
   "id": "0a64d69d",
   "metadata": {},
   "outputs": [],
   "source": [
    "nParams=7"
   ]
  },
  {
   "cell_type": "code",
   "execution_count": 51,
   "id": "6ed4dc5f",
   "metadata": {},
   "outputs": [],
   "source": [
    "#Create the directory and the obs variance for surmise\n",
    "\n",
    "random.seed(142857)\n",
    "\n",
    "obsvar = np.maximum(1.0*np.square(yerr),1e-5)\n",
    "\n",
    "caldir = os.path.join(os.getcwd(), \"Cal-\"+datetime.datetime.now().strftime('%Y-%m-%d_%H-%M'))\n",
    "os.makedirs(caldir, exist_ok=True)\n",
    "\n",
    "rand_params=prior_scattering.rnd(total_chains)"
   ]
  },
  {
   "cell_type": "code",
   "execution_count": 52,
   "id": "3414733c",
   "metadata": {},
   "outputs": [
    {
     "name": "stdout",
     "output_type": "stream",
     "text": [
      "Final Acceptance Rate:  0.5202\n",
      "Final Acceptance Rate:  0.5112\n",
      "Percentage Completed  25\n",
      "Final Acceptance Rate:  0.5282\n",
      "Percentage Completed  50\n",
      "Final Acceptance Rate:  0.51\n",
      "Percentage Completed  75\n",
      "Final Acceptance Rate:  0.5284\n",
      "Percentage Completed  100\n",
      "Total time: 49.36478400230408\n"
     ]
    }
   ],
   "source": [
    "# Run the calibration and print the total time it took, in seconds\n",
    "\n",
    "rbm = emulator(x=X, theta=alphaCentralPrior, passthroughfunc=rbm_emulator)\n",
    "st = time.time()\n",
    "all_chains=calibration_runner(rbm,X,y,obsvar,rand_params[0],numsamp,0,caldir)\n",
    "\n",
    "for ij in range(total_chains-1):\n",
    "    \n",
    "    current_cal=calibration_runner(rbm,X,y,obsvar,rand_params[ij],numsamp,ij+1,caldir)\n",
    "    \n",
    "    all_chains = np.vstack((all_chains,current_cal,))\n",
    "    \n",
    "    print(\"Percentage Completed \",int((ij+1)/(total_chains-1)*100))\n",
    "    \n",
    "et = time.time() \n",
    "print(\"Total time:\", et-st)\n",
    "\n",
    "  "
   ]
  },
  {
   "cell_type": "markdown",
   "id": "03043a2d",
   "metadata": {},
   "source": [
    "# Plotting the results of the calibration"
   ]
  },
  {
   "cell_type": "code",
   "execution_count": null,
   "id": "f24ad630",
   "metadata": {},
   "outputs": [],
   "source": [
    "#The plotting routinge to make the gorgeous corner plots! For some reason we have to run it twice to make the label\n",
    "#size for the ticks to be correct\n",
    "\n",
    "#The red marks show the exact values that we are trying to recover, in this case the KD parametrization\n",
    "    \n",
    "figure = corner.corner(all_chains,\n",
    "    labels=['$V_v$','$W_v$','$W_d$','$R_v$','$R_d$','$a_v$','$a_d$'],\n",
    "    labelpad=0.2,\n",
    "                       bins=20,\n",
    "    label_kwargs={\"fontsize\":50},\n",
    "                      hist_kwargs= {\"linewidth\":3},\n",
    "    quantiles=None,\n",
    "                       truths=alphaKD, truth_color='r'\n",
    "                       ,\n",
    "    smooth=(1.7)\n",
    "                       ,\n",
    "    smooth1d=1.0\n",
    "                      )\n",
    "\n",
    "\n",
    "width = 24\n",
    "height = 18\n",
    "figure.set_size_inches(width, height)\n",
    "plt.rc('xtick', labelsize=30)    \n",
    "plt.rc('ytick', labelsize=30)\n"
   ]
  },
  {
   "cell_type": "code",
   "execution_count": null,
   "id": "c7c5aa34",
   "metadata": {},
   "outputs": [],
   "source": [
    "#Lets check how the chains look like\n",
    "\n",
    "labelsChains=['$V_v$','$W_v$','$W_d$','$R_v$','$R_d$','$a_v$','$a_d$']XAll=np.arange(len(angles))\n",
    "fig, axs = plt.subplots(nParams, 1, figsize=(12, 12))\n",
    "\n",
    "for i in range(nParams):\n",
    "    axs[i].plot(all_chains.T[i])\n",
    "    axs[i].set_ylabel(labelsChains[i],fontsize=18);\n",
    "\n",
    "plt.rc('xtick', labelsize=15)   \n",
    "plt.rc('ytick', labelsize=15)\n",
    "plt.show()"
   ]
  },
  {
   "cell_type": "markdown",
   "id": "1b8c0bd8",
   "metadata": {},
   "source": [
    "## Plotting our final calibrated model alongside the \"data\""
   ]
  },
  {
   "cell_type": "code",
   "execution_count": 53,
   "id": "f7a85d58",
   "metadata": {},
   "outputs": [],
   "source": [
    "\n",
    "XAll=np.arange(len(angles))\n",
    "\n",
    "#In the next cell we sample 10000 values from our visited posterior to make the final plot"
   ]
  },
  {
   "cell_type": "code",
   "execution_count": 54,
   "id": "a6dffe12",
   "metadata": {},
   "outputs": [
    {
     "name": "stdout",
     "output_type": "stream",
     "text": [
      "CPU times: user 29.7 s, sys: 56.4 s, total: 1min 26s\n",
      "Wall time: 10.8 s\n"
     ]
    }
   ],
   "source": [
    "%%time\n",
    "rng = np.random.default_rng()\n",
    "theta_rand = rng.choice(all_chains,(10000),replace=False)\n",
    "rndm_m = rbm_emulator(XAll, theta_rand).T"
   ]
  },
  {
   "cell_type": "code",
   "execution_count": null,
   "id": "88a6d27e",
   "metadata": {},
   "outputs": [],
   "source": [
    "fig, naxs = plt.subplots(1, 1, figsize=(20, 10))\n",
    "median = np.percentile(rndm_m, 50, axis = 0)\n",
    "upper = np.abs(np.percentile(rndm_m, 97.5, axis = 0))\n",
    "\n",
    "lower = np.abs(np.percentile(rndm_m, 2.5, axis = 0))\n",
    "\n",
    "naxs.plot(angles, median, color='C0')\n",
    "naxs.fill_between(angles, lower, upper, color='C0', alpha=0.5)\n",
    "\n",
    "naxs.scatter(anglesX, yperfect,s=100,c='r')\n",
    "naxs.errorbar(anglesX,yperfect, yerr=2*yerr, fmt=\"o\",c='r')\n",
    "\n",
    "naxs.set_yscale('log')\n",
    "\n",
    "naxs.set_xlabel(r'$\\theta$ (deg)',fontsize=50)\n",
    "naxs.set_ylabel(r'$d\\sigma/d\\Omega$ [mb/sr] ',fontsize=50);\n",
    "\n",
    "plt.text(100,300, r'$^{40}\\text{Ca}(n,n)$', fontsize=100)\n",
    "\n",
    "\n",
    "plt.rc('xtick', labelsize=50)    # fontsize of the tick labels\n",
    "plt.rc('ytick', labelsize=50)\n",
    "\n",
    "\n",
    "plt.show()"
   ]
  },
  {
   "cell_type": "code",
   "execution_count": 52,
   "id": "3ec72d77",
   "metadata": {},
   "outputs": [
    {
     "name": "stdout",
     "output_type": "stream",
     "text": [
      "3.815669059753418\n"
     ]
    }
   ],
   "source": [
    "et_super=time.time()\n",
    "\n",
    "print((et_super-st_super)/60)"
   ]
  }
 ],
 "metadata": {
  "kernelspec": {
   "display_name": "Python 3 (ipykernel)",
   "language": "python",
   "name": "python3"
  },
  "language_info": {
   "codemirror_mode": {
    "name": "ipython",
    "version": 3
   },
   "file_extension": ".py",
   "mimetype": "text/x-python",
   "name": "python",
   "nbconvert_exporter": "python",
   "pygments_lexer": "ipython3",
   "version": "3.10.6"
  }
 },
 "nbformat": 4,
 "nbformat_minor": 5
}
