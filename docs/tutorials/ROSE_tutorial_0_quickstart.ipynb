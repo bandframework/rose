{
 "cells": [
  {
   "cell_type": "markdown",
   "id": "bc29de78",
   "metadata": {},
   "source": [
    "# Quick start\n",
    "\n",
    "Let's set up a simple emulator for scattering of 14.1 MeV protons on $^{27}$Al, using the [Koning-Delaroche](https://www.sciencedirect.com/science/article/pii/S0375947402013210?casa_token=qS1v6U4xDQEAAAAA:NIi9D5LpP3f05AMwRnvbQ6or8hSvXoEIgKBV56KA4l9aObCOVDAndmuCeIH77iuzoXMOOlAMyw) optical potential for the proton-nucleus interaction."
   ]
  },
  {
   "cell_type": "code",
   "execution_count": 1,
   "id": "e088fa54",
   "metadata": {},
   "outputs": [],
   "source": [
    "import rose\n",
    "import numpy as np\n",
    "from tqdm import tqdm\n",
    "from matplotlib import pyplot as plt"
   ]
  },
  {
   "cell_type": "code",
   "execution_count": 2,
   "id": "e320c2bf",
   "metadata": {},
   "outputs": [],
   "source": [
    "# set up kinematics\n",
    "from rose.koning_delaroche import KDGlobal, Projectile\n",
    "\n",
    "# for 27-Al\n",
    "A = 27\n",
    "Z = 13\n",
    "\n",
    "# lab bombarding energy\n",
    "Elab = 14.1  # MeV\n",
    "\n",
    "# get kinematics and default KD params\n",
    "omp = rose.koning_delaroche.KDGlobal(Projectile.proton)\n",
    "(mu, Ecom, k, eta, R_C), parameters = omp.get_params(A, Z, Elab)"
   ]
  },
  {
   "cell_type": "code",
   "execution_count": 3,
   "id": "409843f6",
   "metadata": {},
   "outputs": [],
   "source": [
    "# take train and test parameter samples from a box bounded 50% aboce and below the default values\n",
    "scale = 0.5  \n",
    "bounds = np.array(\n",
    "    [\n",
    "        parameters -  np.fabs(scale * parameters),\n",
    "        parameters +  np.fabs(scale * parameters),\n",
    "    ]\n",
    ").T"
   ]
  },
  {
   "cell_type": "code",
   "execution_count": 4,
   "id": "6af95336",
   "metadata": {},
   "outputs": [],
   "source": [
    "from rose.training import sample_params_LHC\n",
    "\n",
    "n_test = 10\n",
    "n_train = 40\n",
    "\n",
    "# sample 80/20 train/test split from +/-50% around the default params\n",
    "train = sample_params_LHC(n_train, parameters, 0.5, seed=13)\n",
    "test = sample_params_LHC(n_test, parameters, 0.5, seed=721)"
   ]
  },
  {
   "cell_type": "code",
   "execution_count": null,
   "id": "7ad7723c",
   "metadata": {},
   "outputs": [],
   "source": [
    "# instantiate the interaction\n",
    "interactions = rose.InteractionEIMSpace(\n",
    "    rose.koning_delaroche.KD_simple,\n",
    "    len(parameters),\n",
    "    mu,\n",
    "    Ecom,\n",
    "    is_complex=True,\n",
    "    spin_orbit_potential=rose.koning_delaroche.KD_simple_so,\n",
    "    training_info=bounds,\n",
    "    Z_1=1,\n",
    "    Z_2=13,\n",
    "    R_C=R_C,\n",
    ")"
   ]
  },
  {
   "cell_type": "code",
   "execution_count": null,
   "id": "003bfb88",
   "metadata": {},
   "outputs": [],
   "source": [
    "# set up and train emulator using sensible defaults\n",
    "emulator = rose.ScatteringAmplitudeEmulator.from_train(\n",
    "    interactions,\n",
    "    train,\n",
    "    n_basis=10,\n",
    "    angles=np.linspace(np.pi/181, np.pi, 180),\n",
    "    l_cutoff_rel=1e-6,\n",
    ")"
   ]
  },
  {
   "cell_type": "markdown",
   "id": "e8a6cbd7",
   "metadata": {},
   "source": [
    "Now we have a trained emulator! Let's compare observables between the emulator and the high-fidelity solver using our test set of sampled parameters."
   ]
  },
  {
   "cell_type": "code",
   "execution_count": null,
   "id": "bb844279",
   "metadata": {},
   "outputs": [],
   "source": [
    "%%time\n",
    "# use %%timeit to get a more percise timing  - but may take a while to run!\n",
    "\n",
    "# run high-fidelity solver\n",
    "HIFI_xs = []\n",
    "for sample in tqdm(test):\n",
    "    HIFI_xs.append( emulator.exact_xs(sample) )"
   ]
  },
  {
   "cell_type": "code",
   "execution_count": null,
   "id": "a4074452",
   "metadata": {
    "scrolled": false
   },
   "outputs": [],
   "source": [
    "%%timeit\n",
    "# use %%timeit to get a more percise timing  - this one will be fast either way!\n",
    "\n",
    "# run emulator\n",
    "emu_xs = []\n",
    "for sample in tqdm(test):\n",
    "    emu_xs.append( emulator.emulate_xs(sample))"
   ]
  },
  {
   "cell_type": "markdown",
   "id": "c053bf51",
   "metadata": {},
   "source": [
    "Now let's plot the results!"
   ]
  },
  {
   "cell_type": "code",
   "execution_count": null,
   "id": "60c701ad",
   "metadata": {},
   "outputs": [],
   "source": [
    "from matplotlib.lines import Line2D\n",
    "\n",
    "fig, ax = plt.subplots(figsize=(6, 4), dpi=300)\n",
    "fig.patch.set_facecolor(\"white\")\n",
    "\n",
    "for i, sample in enumerate(test):\n",
    "    x = emulator.angles * 180 / (np.pi)\n",
    "    \n",
    "    # HIFI\n",
    "    y_exact = HIFI_xs[i].dsdo\n",
    "    \n",
    "    # emulated\n",
    "    y_emu = emu_xs[i].dsdo\n",
    "    \n",
    "    p = ax.plot(x, y_emu, \"--\", alpha=0.5)\n",
    "    ax.plot(x, y_exact, color=p[0].get_color(), alpha=0.5)\n",
    "\n",
    "legend_styles = [\n",
    "    Line2D([0], [0], color=\"k\", linestyle=\"--\", alpha=0.5),\n",
    "    Line2D([0], [0], color=\"k\", alpha=0.5),\n",
    "]\n",
    "ax.legend(legend_styles, [\"emulated\", \"high-fidelity\"])\n",
    "ax.set_yscale(\"log\")\n",
    "plt.xlim([0, 180])\n",
    "plt.xlabel(r\"$\\theta$ [$^\\circ$]\", fontsize=16)\n",
    "plt.ylabel(r\"$\\frac{d \\sigma}{d\\Omega}$ [mb/Sr]\", fontsize=16)\n",
    "\n",
    "plt.ylabel(r\"$\\sigma / \\sigma_{\\rm{Rutherford}}$ \", fontsize=16)\n",
    "plt.show()"
   ]
  },
  {
   "cell_type": "code",
   "execution_count": null,
   "id": "a1245041",
   "metadata": {},
   "outputs": [],
   "source": [
    "fig, ax = plt.subplots(figsize=(6, 4), dpi=300)\n",
    "fig.patch.set_facecolor(\"white\")\n",
    "\n",
    "for i, sample in enumerate(test):\n",
    "    x = emulator.angles * 180/(np.pi)\n",
    "    \n",
    "    # HIFI\n",
    "    y_exact = HIFI_xs[i].Ay \n",
    "    \n",
    "    # emulated\n",
    "    y_emu = emu_xs[i].Ay\n",
    "\n",
    "    p = ax.plot(x, y_emu, \"--\", alpha=0.5)\n",
    "    ax.plot(x, y_exact, color=p[0].get_color(), alpha=0.5)\n",
    "\n",
    "legend_styles = [\n",
    "    Line2D([0], [0], color=\"k\", linestyle=\"--\", alpha=0.5),\n",
    "    Line2D([0], [0], color=\"k\", alpha=0.5),\n",
    "]\n",
    "ax.legend(legend_styles, [\"emulated\", \"high-fidelity\"])\n",
    "ax.set_ylim([-1,1])\n",
    "plt.xlim([0, 180])\n",
    "plt.xlabel(r\"$\\theta$ [$^\\circ$]\", fontsize=16)\n",
    "plt.ylabel(r\"$A_y(\\theta)$ \", fontsize=16)\n",
    "plt.show()"
   ]
  }
 ],
 "metadata": {
  "kernelspec": {
   "display_name": "Python 3 (ipykernel)",
   "language": "python",
   "name": "python3"
  },
  "language_info": {
   "codemirror_mode": {
    "name": "ipython",
    "version": 3
   },
   "file_extension": ".py",
   "mimetype": "text/x-python",
   "name": "python",
   "nbconvert_exporter": "python",
   "pygments_lexer": "ipython3",
   "version": "3.10.8"
  }
 },
 "nbformat": 4,
 "nbformat_minor": 5
}
