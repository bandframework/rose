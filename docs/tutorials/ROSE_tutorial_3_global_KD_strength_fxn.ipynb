{
 "cells": [
  {
   "cell_type": "markdown",
   "id": "64b57a1a",
   "metadata": {},
   "source": [
    "# Quick start\n",
    "\n",
    "Let's set up a simple emulator for scattering of neutrons at various energies on various isotopes, using the [Koning-Delaroche](https://www.sciencedirect.com/science/article/pii/S0375947402013210?casa_token=qS1v6U4xDQEAAAAA:NIi9D5LpP3f05AMwRnvbQ6or8hSvXoEIgKBV56KA4l9aObCOVDAndmuCeIH77iuzoXMOOlAMyw) global optical potential for the neutron-nucleus interaction."
   ]
  },
  {
   "cell_type": "code",
   "execution_count": 9,
   "id": "b9c1f327",
   "metadata": {},
   "outputs": [],
   "source": [
    "import rose\n",
    "import numpy as np\n",
    "from tqdm import tqdm\n",
    "from matplotlib import pyplot as plt"
   ]
  },
  {
   "cell_type": "code",
   "execution_count": 10,
   "id": "0d05ba41",
   "metadata": {},
   "outputs": [],
   "source": [
    "# useful constants\n",
    "AMU = 931.494102  # MeV/c^2, Particle Data Group\n",
    "MASS_N = 1.008665 * AMU  # MeV/c^2 PDG\n",
    "MASS_P = 1.007276 * AMU  # MeV/c^2 PDG"
   ]
  },
  {
   "cell_type": "code",
   "execution_count": 11,
   "id": "9891d78e",
   "metadata": {},
   "outputs": [],
   "source": [
    "def setup_system(A: int, Z: int,  energy_lab: float):\n",
    "    \"\"\"\n",
    "    calculates the reduced mass, and the COM frame kinetic energy\n",
    "    and wavenumber for a neutron scattering on a target nuclide\n",
    "    Parameters:\n",
    "        A : mass number of target\n",
    "        Z : proton number of target\n",
    "        energy_lab: bombarding energy in the lab frame [MeV]\n",
    "    \"\"\"\n",
    "    N = A - Z\n",
    "\n",
    "    # semi-empirical mass formula\n",
    "    delta = 0\n",
    "    if N%2 == 0 and Z%2 == 0:\n",
    "        delta = 12.0 / np.sqrt(A)\n",
    "    elif N%2 != 0 and Z%2 != 0:\n",
    "        delta = - 12.0 / np.sqrt(A)\n",
    "\n",
    "    Eb = (\n",
    "        15.8 * A\n",
    "      - 18.3 * A**(2/3)\n",
    "      - 0.714 * Z*(Z-1)/(A**(1/3))\n",
    "      - 23.2 * (N-Z)**2/A\n",
    "      + delta\n",
    "    )\n",
    "\n",
    "    target_mass = Z * MASS_P + N * MASS_N - Eb\n",
    "    mu = target_mass * MASS_N / (target_mass + MASS_N)\n",
    "    energy_com = target_mass / (MASS_N + target_mass) * energy_lab\n",
    "\n",
    "    return mu, energy_com, k"
   ]
  },
  {
   "cell_type": "code",
   "execution_count": 19,
   "id": "23d78817",
   "metadata": {},
   "outputs": [],
   "source": [
    "def get_kd_params(A, Z, Ecom):\n",
    "    \"\"\"\n",
    "    Calculates Koning-Delaroche global neutron-nucleus OMP parameters for given A, Z; returns KD params\n",
    "    and bounds for training determined by default parameters scaled by a factor of +/- x%\n",
    "    \"\"\"\n",
    "    N = A - Z\n",
    "    delta = (N - Z) / A\n",
    "\n",
    "    v1 = 59.30 - 21.0 * delta - 0.024 * A\n",
    "    v2 = 0.007228 - 1.48e-6 * A\n",
    "    v3 = 1.994e-5 - 2.0e-8 * A\n",
    "    v4 = 7.0e-9\n",
    "\n",
    "    w1 = 12.195 + 0.0167 * A\n",
    "    w2 = 73.55 + 0.0795 * A\n",
    "\n",
    "    d1 = 16.0 - 16.0 * delta\n",
    "    d2 = 0.0180 + 0.003802 / (1 + np.exp((A - 156.0) / 8.0))\n",
    "    d3 = 11.5\n",
    "\n",
    "    vso1 = 5.922 + 0.0030 * A\n",
    "    vso2 = 0.0040\n",
    "\n",
    "    wso1 = -3.1\n",
    "    wso2 = 160\n",
    "\n",
    "    Ef = 11.2814 + 0.02646 * A\n",
    "    vv = rose.koning_delaroche.Vv(Ecom, v1, v2, v3, v4, Ef)\n",
    "    rv = 1.3039 - 0.4054 * A ** (-1 / 3)\n",
    "    av = 0.6778 - 1.487e-4 * A\n",
    "\n",
    "    wv = rose.koning_delaroche.Wv(Ecom, w1, w2, Ef)\n",
    "    rwv = rv\n",
    "    awv = av\n",
    "\n",
    "    wd = rose.koning_delaroche.Wd(Ecom, d1, d2, d3, Ef)\n",
    "    rd = 1.3424 - 0.01585 * A ** (1 / 3)\n",
    "    ad = 0.5446 - 1.656e-4 * A\n",
    "\n",
    "    vso = rose.koning_delaroche.Vso(Ecom, vso1, vso2, Ef)\n",
    "    wso = rose.koning_delaroche.Wso(Ecom, wso1, wso2, Ef)\n",
    "    rso = 1.1854 - 0.647 * A ** (-1 / 3)\n",
    "    aso = 0.59\n",
    "    rwso = rso\n",
    "    awso = aso\n",
    "\n",
    "    R_C = 1.329\n",
    "\n",
    "    # 15 params total\n",
    "    params = np.array(\n",
    "        [\n",
    "            vv,\n",
    "            rv * A ** (1 / 3),\n",
    "            av,\n",
    "            wv,\n",
    "            rwv * A ** (1 / 3),\n",
    "            awv,\n",
    "            wd,\n",
    "            rd * A ** (1 / 3),\n",
    "            ad,\n",
    "            vso,\n",
    "            rso * A ** (1 / 3),\n",
    "            aso,\n",
    "            wso,\n",
    "            rwso * A ** (1 / 3),\n",
    "            awso,\n",
    "        ]\n",
    "    )\n",
    "    return params"
   ]
  },
  {
   "cell_type": "code",
   "execution_count": 31,
   "id": "2975d8a7",
   "metadata": {},
   "outputs": [
    {
     "data": {
      "text/plain": [
       "array([-5.36058763e-04,  2.90920000e+00,  5.90000000e-01])"
      ]
     },
     "execution_count": 31,
     "metadata": {},
     "output_type": "execute_result"
    }
   ],
   "source": [
    "p =  get_kd_params(27,13, 14.1)"
   ]
  },
  {
   "cell_type": "code",
   "execution_count": 23,
   "id": "e2c30588",
   "metadata": {},
   "outputs": [],
   "source": [
    "# instantiate the interaction\n",
    "interactions = rose.InteractionEIMSpace(\n",
    "    rose.koning_delaroche.KD_simple,\n",
    "    len(p),\n",
    "    mu,\n",
    "    Ecom,\n",
    "    l_max,\n",
    "    is_complex=True,\n",
    "    spin_orbit_potential=rose.koning_delaroche.KD_simple_so,\n",
    "    training_info=bounds,\n",
    "    \n",
    ")"
   ]
  },
  {
   "cell_type": "code",
   "execution_count": 24,
   "id": "a4046baf",
   "metadata": {},
   "outputs": [],
   "source": [
    "from scipy.stats import qmc\n",
    "\n",
    "# sample training and test points from within bounds\n",
    "# 80/20% train/test division\n",
    "test = qmc.scale(\n",
    "    qmc.LatinHypercube(d=parameters.size).random(20), bounds[:, 0], bounds[:, 1]\n",
    ")\n",
    "train = qmc.scale(\n",
    "    qmc.LatinHypercube(d=parameters.size).random(80), bounds[:, 0], bounds[:, 1]\n",
    ")"
   ]
  },
  {
   "cell_type": "code",
   "execution_count": 25,
   "id": "b31b6dd6",
   "metadata": {},
   "outputs": [
    {
     "name": "stderr",
     "output_type": "stream",
     "text": [
      "100%|███████████████████████████████████████████| 21/21 [02:11<00:00,  6.28s/it]\n"
     ]
    }
   ],
   "source": [
    "# set up and train emulator using sensible defaults\n",
    "emulator = rose.ScatteringAmplitudeEmulator.from_train(\n",
    "    interactions,\n",
    "    train,\n",
    "    l_max,\n",
    "    n_basis=20,\n",
    "    angles=np.linspace(np.pi/181, np.pi, 180),\n",
    ")"
   ]
  },
  {
   "cell_type": "markdown",
   "id": "9295406b",
   "metadata": {},
   "source": [
    "Now we have a trained emulator! Let's compare observables between the emulator and the high-fidelity solver using our test set of sampled parameters."
   ]
  },
  {
   "cell_type": "code",
   "execution_count": null,
   "id": "119c42e2",
   "metadata": {},
   "outputs": [
    {
     "name": "stderr",
     "output_type": "stream",
     "text": [
      " 75%|████████████████████████████████▎          | 15/20 [04:28<01:30, 18.10s/it]"
     ]
    }
   ],
   "source": [
    "%%time\n",
    "\n",
    "# run high-fidelity solver\n",
    "HIFI_xs = []\n",
    "for sample in tqdm(test):\n",
    "    HIFI_xs.append( emulator.exact_xs(sample))"
   ]
  },
  {
   "cell_type": "code",
   "execution_count": null,
   "id": "5958aedb",
   "metadata": {},
   "outputs": [],
   "source": [
    "%%time\n",
    "\n",
    "# run emulator\n",
    "emu_xs = []\n",
    "for sample in tqdm(test):\n",
    "    emu_xs.append( emulator.emulate_xs(sample))"
   ]
  },
  {
   "cell_type": "markdown",
   "id": "16faa60e",
   "metadata": {},
   "source": [
    "Now let's plot the results!"
   ]
  },
  {
   "cell_type": "code",
   "execution_count": null,
   "id": "a9449d3e",
   "metadata": {},
   "outputs": [],
   "source": [
    "from matplotlib.lines import Line2D\n",
    "\n",
    "fig, ax = plt.subplots(figsize=(6, 4), dpi=300)\n",
    "fig.patch.set_facecolor(\"white\")\n",
    "\n",
    "for i, sample in enumerate(test):\n",
    "    x = emulator.angles * 180 / (np.pi)\n",
    "    \n",
    "    # HIFI\n",
    "    y_exact = HIFI_xs[i].dsdo * emulator.rutherford\n",
    "    \n",
    "    # emulated\n",
    "    y_emu = emu_xs[i].dsdo * emulator.rutherford\n",
    "\n",
    "    p = ax.plot(x, y_emu, \"--\", alpha=0.5)\n",
    "    ax.plot(x, y_exact, color=p[0].get_color(), alpha=0.5)\n",
    "\n",
    "legend_styles = [\n",
    "    Line2D([0], [0], color=\"k\", linestyle=\"--\", alpha=0.5),\n",
    "    Line2D([0], [0], color=\"k\", alpha=0.5),\n",
    "]\n",
    "ax.legend(legend_styles, [\"emulated\", \"high-fidelity\"])\n",
    "ax.set_yscale(\"log\")\n",
    "plt.xlim([0, 180])\n",
    "plt.xlabel(r\"$\\theta$ [$^\\circ$]\", fontsize=18)\n",
    "plt.ylabel(r\"$\\frac{d \\sigma}{d\\Omega}$ [mb]\", fontsize=16)\n",
    "\n",
    "#plt.ylabel(r\"$\\sigma / \\sigma_{\\rm{Rutherford}}$ \", fontsize=16)\n",
    "plt.show()"
   ]
  },
  {
   "cell_type": "code",
   "execution_count": null,
   "id": "abf12bd8",
   "metadata": {},
   "outputs": [],
   "source": [
    "fig, ax = plt.subplots(figsize=(6, 4), dpi=300)\n",
    "fig.patch.set_facecolor(\"white\")\n",
    "\n",
    "for i, sample in enumerate(test):\n",
    "    x = emulator.angles * 180/(np.pi)\n",
    "    \n",
    "    # HIFI\n",
    "    y_exact = HIFI_xs[i].Ay \n",
    "    \n",
    "    # emulated\n",
    "    y_emu = emu_xs[i].Ay\n",
    "\n",
    "    p = ax.plot(x, y_emu, \"--\", alpha=0.5)\n",
    "    ax.plot(x, y_exact, color=p[0].get_color(), alpha=0.5)\n",
    "\n",
    "legend_styles = [\n",
    "    Line2D([0], [0], color=\"k\", linestyle=\"--\", alpha=0.5),\n",
    "    Line2D([0], [0], color=\"k\", alpha=0.5),\n",
    "]\n",
    "ax.legend(legend_styles, [\"emulated\", \"high-fidelity\"])\n",
    "#ax.set_yscale(\"log\")\n",
    "plt.xlim([0, 180])\n",
    "plt.xlabel(r\"$\\theta$ [$^\\circ$]\", fontsize=18)\n",
    "plt.ylabel(r\"$A_y(\\theta)$ \", fontsize=16)\n",
    "plt.show()"
   ]
  }
 ],
 "metadata": {
  "kernelspec": {
   "display_name": "Python 3 (ipykernel)",
   "language": "python",
   "name": "python3"
  },
  "language_info": {
   "codemirror_mode": {
    "name": "ipython",
    "version": 3
   },
   "file_extension": ".py",
   "mimetype": "text/x-python",
   "name": "python",
   "nbconvert_exporter": "python",
   "pygments_lexer": "ipython3",
   "version": "3.10.8"
  }
 },
 "nbformat": 4,
 "nbformat_minor": 5
}
