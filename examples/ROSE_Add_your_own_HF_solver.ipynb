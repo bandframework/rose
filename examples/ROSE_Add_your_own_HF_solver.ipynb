{
 "cells": [
  {
   "cell_type": "markdown",
   "id": "ae222f14",
   "metadata": {},
   "source": [
    "# Adding your own custom high-fidelity solver\n",
    "\n",
    "Advanced users may want to substitute the default solvers in `rose` for their own custom ones. This tutorial will walk through that process, with scattering of 14.1 MeV protons on $^{27}$Al, using the [Koning-Delaroche](https://www.sciencedirect.com/science/article/pii/S0375947402013210?casa_token=qS1v6U4xDQEAAAAA:NIi9D5LpP3f05AMwRnvbQ6or8hSvXoEIgKBV56KA4l9aObCOVDAndmuCeIH77iuzoXMOOlAMyw) optical potential for the proton-nucleus interaction. \n",
    "\n",
    "We will add [this solver](https://pypi.org/project/lagrange-rmatrix/), which uses the calculable R-matrix method on a Lagrange-Legendre mesh. In principle, this should provide a very precise solver, that is also capable of non-local and coupled-channels potentials. "
   ]
  },
  {
   "cell_type": "code",
   "execution_count": 1,
   "id": "45e68395",
   "metadata": {},
   "outputs": [],
   "source": [
    "import rose\n",
    "import numpy as np\n",
    "from matplotlib import pyplot as plt"
   ]
  },
  {
   "cell_type": "code",
   "execution_count": 2,
   "id": "4b1ec4bd",
   "metadata": {},
   "outputs": [],
   "source": [
    "# !pip install lagrange-rmatrix\n",
    "from lagrange_rmatrix import (\n",
    "    ProjectileTargetSystem,       # defines channel-independent data for the system\n",
    "    RadialSEChannel,              # channel description\n",
    "    LagrangeRMatrix,              # solver\n",
    "    woods_saxon_potential,        # short-range nuclear interaction\n",
    "    coulomb_charged_sphere,       # long-range EM interaction\n",
    "    delta,                        # function to calculate phase shift \n",
    ")\n"
   ]
  },
  {
   "cell_type": "code",
   "execution_count": 3,
   "id": "be84bc66",
   "metadata": {},
   "outputs": [
    {
     "name": "stderr",
     "output_type": "stream",
     "text": [
      "/home/kyle/umich/rose/src/rose/utility.py:147: FutureWarning: Calling float on a single element Series is deprecated and will raise a TypeError in the future. Use float(ser.iloc[0]) instead\n",
      "  return float(df[mask][\"BINDING_ENERGY/A\"]) * A / 1e3\n",
      "/home/kyle/umich/rose/src/rose/utility.py:147: FutureWarning: Calling float on a single element Series is deprecated and will raise a TypeError in the future. Use float(ser.iloc[0]) instead\n",
      "  return float(df[mask][\"BINDING_ENERGY/A\"]) * A / 1e3\n"
     ]
    }
   ],
   "source": [
    "# set up kinematics\n",
    "from rose.koning_delaroche import KDGlobal, Projectile\n",
    "\n",
    "# for 27-Al\n",
    "A = 27\n",
    "Z = 13\n",
    "\n",
    "# lab bombarding energy\n",
    "Elab = 35  # MeV\n",
    "\n",
    "# get kinematics and default KD params\n",
    "omp = rose.koning_delaroche.KDGlobal(Projectile.proton)\n",
    "(mu, Ecom, k, eta, R_C), parameters = omp.get_params(A, Z, Elab)"
   ]
  },
  {
   "cell_type": "code",
   "execution_count": 4,
   "id": "dc5f3dbc",
   "metadata": {},
   "outputs": [],
   "source": [
    "# create an interaction space for partial waves\n",
    "interactions = rose.InteractionSpace(\n",
    "    rose.koning_delaroche.KD_simple,\n",
    "    len(parameters),\n",
    "    mu,\n",
    "    Ecom,\n",
    "    is_complex=True,\n",
    "    spin_orbit_potential=rose.koning_delaroche.KD_simple_so,\n",
    "    Z_1=1,\n",
    "    Z_2=13,\n",
    "    R_C=R_C,\n",
    ")"
   ]
  },
  {
   "cell_type": "markdown",
   "id": "4e154018",
   "metadata": {},
   "source": [
    "To use the `lagrange-rmatrix` package as a custom solver in `rose`, we will need to add a new derived class of `rose.SchroedingerEquation`, like so:"
   ]
  },
  {
   "cell_type": "code",
   "execution_count": 5,
   "id": "ce188517",
   "metadata": {},
   "outputs": [],
   "source": [
    "# first set up the system\n",
    "nodes_within_radius = 6\n",
    "sys = ProjectileTargetSystem(\n",
    "        incident_energy=Ecom,\n",
    "        reduced_mass=mu,\n",
    "        channel_radius=nodes_within_radius * (2 * np.pi),\n",
    "        Ztarget=Z,\n",
    "        Zproj=1,\n",
    "    )"
   ]
  },
  {
   "cell_type": "code",
   "execution_count": 6,
   "id": "4257cafd",
   "metadata": {},
   "outputs": [],
   "source": [
    "class LagrangeRmatrixSolver(rose.SchroedingerEquation):\n",
    "    def __init__(\n",
    "        self, interaction: rose.Interaction, sys: ProjectileTargetSystem, Nbasis: int\n",
    "    ):\n",
    "        self.interaction = interaction\n",
    "        v = lambda r: self.interaction.v_r\n",
    "        self.se = RadialSEChannel(\n",
    "            l=interaction.ell,\n",
    "            system=system,\n",
    "            interaction=None,\n",
    "        )\n",
    "        self.solver = LagrangeRMatrix(Nbasis, sys, self.se)\n",
    "\n",
    "\n",
    "    def clone_for_new_interaction(self, interaction: rose.Interaction):\n",
    "        return LagrangeRmatrixSolver(interaction, self.se.system, self.solver.N)\n",
    "\n",
    "    def phi(self, alpha: np.array, s_mesh: np.array):\n",
    "        pass\n",
    "        _, _, u = self.solver.solve_wavefunction()"
   ]
  },
  {
   "cell_type": "code",
   "execution_count": 7,
   "id": "6cf72af7",
   "metadata": {},
   "outputs": [],
   "source": [
    "                                                        \n",
    "import numpy as np                                                                                      \n",
    "from time import perf_counter                                                                           \n"
   ]
  },
  {
   "cell_type": "code",
   "execution_count": 8,
   "id": "119b9025",
   "metadata": {},
   "outputs": [
    {
     "name": "stdout",
     "output_type": "stream",
     "text": [
      "0.57.1\n"
     ]
    }
   ],
   "source": [
    "from numba import jit, njit, config, __version__, errors\n",
    "from numba.extending import overload\n",
    "import numba\n",
    "import numpy as np\n",
    "assert tuple(int(x) for x in __version__.split('.')[:2]) >= (0, 46)\n",
    "print(__version__)"
   ]
  },
  {
   "cell_type": "code",
   "execution_count": 9,
   "id": "9bc0bbe4",
   "metadata": {},
   "outputs": [
    {
     "name": "stdout",
     "output_type": "stream",
     "text": [
      "1.7.3\n",
      "special.beta(1.2, 3.4) 0.20455811064350188\n",
      "special.j0(5.6)        0.026970884685114372\n",
      "special.eval_legendre(3,0.1)        -0.1474999999999999\n"
     ]
    }
   ],
   "source": [
    "from scipy import special\n",
    "import scipy\n",
    "print(scipy.__version__)\n",
    "@njit\n",
    "def call_scipy_in_jitted_code():\n",
    "    print(\"special.beta(1.2, 3.4)\", special.beta(1.2, 3.4))\n",
    "    print(\"special.j0(5.6)       \", special.j0(5.6))\n",
    "    print(\"special.eval_legendre(3,0.1)  \", special.eval_legendre(3,0.1))\n",
    "\n",
    "    \n",
    "call_scipy_in_jitted_code()"
   ]
  },
  {
   "cell_type": "code",
   "execution_count": null,
   "id": "17d4425a",
   "metadata": {},
   "outputs": [],
   "source": [
    "scipy.__version__"
   ]
  },
  {
   "cell_type": "code",
   "execution_count": null,
   "id": "103e8b53",
   "metadata": {},
   "outputs": [],
   "source": []
  }
 ],
 "metadata": {
  "kernelspec": {
   "display_name": "Python 3 (ipykernel)",
   "language": "python",
   "name": "python3"
  },
  "language_info": {
   "codemirror_mode": {
    "name": "ipython",
    "version": 3
   },
   "file_extension": ".py",
   "mimetype": "text/x-python",
   "name": "python",
   "nbconvert_exporter": "python",
   "pygments_lexer": "ipython3",
   "version": "3.10.12"
  }
 },
 "nbformat": 4,
 "nbformat_minor": 5
}
