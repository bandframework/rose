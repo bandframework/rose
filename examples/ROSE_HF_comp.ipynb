{
 "cells": [
  {
   "cell_type": "markdown",
   "id": "bc29de78",
   "metadata": {},
   "source": [
    "# Choosing a high-fidelity solver\n",
    "\n",
    "Let's set up a solver for scattering of 14.1 MeV protons on $^{27}$Al, using the [Koning-Delaroche](https://www.sciencedirect.com/science/article/pii/S0375947402013210?casa_token=qS1v6U4xDQEAAAAA:NIi9D5LpP3f05AMwRnvbQ6or8hSvXoEIgKBV56KA4l9aObCOVDAndmuCeIH77iuzoXMOOlAMyw) optical potential for the proton-nucleus interaction. We will use this as the test bed for comparing high-fidelity solver schemes for the radial Schrödinger equation. We want our offline training to be fast too!"
   ]
  },
  {
   "cell_type": "code",
   "execution_count": 1,
   "id": "e088fa54",
   "metadata": {},
   "outputs": [],
   "source": [
    "import rose\n",
    "import numpy as np\n",
    "from matplotlib import pyplot as plt"
   ]
  },
  {
   "cell_type": "code",
   "execution_count": 2,
   "id": "e320c2bf",
   "metadata": {},
   "outputs": [
    {
     "name": "stderr",
     "output_type": "stream",
     "text": [
      "/home/kyle/umich/rose/src/rose/utility.py:147: FutureWarning: Calling float on a single element Series is deprecated and will raise a TypeError in the future. Use float(ser.iloc[0]) instead\n",
      "  return float(df[mask][\"BINDING_ENERGY/A\"]) * A / 1e3\n",
      "/home/kyle/umich/rose/src/rose/utility.py:147: FutureWarning: Calling float on a single element Series is deprecated and will raise a TypeError in the future. Use float(ser.iloc[0]) instead\n",
      "  return float(df[mask][\"BINDING_ENERGY/A\"]) * A / 1e3\n"
     ]
    }
   ],
   "source": [
    "# set up kinematics\n",
    "from rose.koning_delaroche import KDGlobal, Projectile\n",
    "\n",
    "# for 27-Al\n",
    "A = 27\n",
    "Z = 13\n",
    "\n",
    "# lab bombarding energy\n",
    "Elab = 35  # MeV\n",
    "\n",
    "# get kinematics and default KD params\n",
    "omp = rose.koning_delaroche.KDGlobal(Projectile.proton)\n",
    "(mu, Ecom, k, eta, R_C), parameters = omp.get_params(A, Z, Elab)"
   ]
  },
  {
   "cell_type": "markdown",
   "id": "5614d994",
   "metadata": {},
   "source": [
    "Instantiate the set of interactions for each partial wave. We use the type `InteractionEIMSpace` because we will use the Empirical Interpolation Method (EIM) to handle potentials that are non-affine (like the Woods-Saxon forms in Koning-Delaroche). We will not discuss this here, for more detail, see the following tutorials."
   ]
  },
  {
   "cell_type": "code",
   "execution_count": 3,
   "id": "5e4729a5",
   "metadata": {},
   "outputs": [],
   "source": [
    "interactions = rose.InteractionSpace(\n",
    "    rose.koning_delaroche.KD_simple,\n",
    "    len(parameters),\n",
    "    mu,\n",
    "    Ecom,\n",
    "    is_complex=True,\n",
    "    spin_orbit_potential=rose.koning_delaroche.KD_simple_so,\n",
    "    Z_1=1,\n",
    "    Z_2=13,\n",
    "    R_C=R_C,\n",
    ")"
   ]
  },
  {
   "cell_type": "markdown",
   "id": "63e72b9a",
   "metadata": {},
   "source": [
    "Let's build a set of solvers with different settings for this `InteractionSpace`:"
   ]
  },
  {
   "cell_type": "code",
   "execution_count": 4,
   "id": "e3980477",
   "metadata": {},
   "outputs": [],
   "source": [
    "numerov_dx = [1e-2, 1e-3, 1e-4]\n",
    "rk_tolerances = [(1e-5, 1e-5), (1e-7, 1e-7), (1e-9, 1e-9)]\n",
    "\n",
    "angles = np.linspace(1e-3, np.pi, 300)\n",
    "s_mesh = np.linspace(0.001, 8*np.pi, 1000)  # for visualization\n",
    "domain = (s_mesh[0], s_mesh[-1])\n",
    "\n",
    "numerov_solvers = []\n",
    "for dx in numerov_dx:\n",
    "    solver = rose.NumerovSolver(None, domain, dx)\n",
    "    numerov_solvers.append(\n",
    "        rose.ScatteringAmplitudeEmulator.HIFI_solver(\n",
    "            interactions,\n",
    "            base_solver=solver,\n",
    "            angles=angles,\n",
    "            s_mesh=s_mesh,\n",
    "        )\n",
    "    )\n",
    "\n",
    "rk_solvers = []\n",
    "for rk_tols in rk_tolerances:\n",
    "    solver = rose.SchroedingerEquation(None, rk_tols)\n",
    "    rk_solvers.append(\n",
    "        rose.ScatteringAmplitudeEmulator.HIFI_solver(\n",
    "            interactions,\n",
    "            base_solver=solver,\n",
    "            angles=angles,\n",
    "            s_mesh=s_mesh,\n",
    "        )\n",
    "    )\n",
    "\n",
    "# choose the highest fidelity Runge-Kutta solver as our 'ground truth'\n",
    "hifi_solver = rose.SchroedingerEquation(None, [1.0e-12, 1.0e-12])\n",
    "ground_truth = rose.ScatteringAmplitudeEmulator.HIFI_solver(\n",
    "    interactions,\n",
    "    base_solver=hifi_solver,\n",
    "    angles=angles,\n",
    "    s_mesh=s_mesh,\n",
    ")"
   ]
  },
  {
   "cell_type": "markdown",
   "id": "508e9a0b",
   "metadata": {},
   "source": [
    "Let's pick one each of a Runge-Kutta and Numerov solver, and compare the wavefunctions and phase-shifts they produce:"
   ]
  },
  {
   "cell_type": "code",
   "execution_count": 5,
   "id": "3380b892",
   "metadata": {},
   "outputs": [
    {
     "ename": "NameError",
     "evalue": "name 'l' is not defined",
     "output_type": "error",
     "traceback": [
      "\u001b[0;31m---------------------------------------------------------------------------\u001b[0m",
      "\u001b[0;31mNameError\u001b[0m                                 Traceback (most recent call last)",
      "Cell \u001b[0;32mIn[5], line 1\u001b[0m\n\u001b[0;32m----> 1\u001b[0m solutions_rk \u001b[38;5;241m=\u001b[39m \u001b[43mground_truth\u001b[49m\u001b[38;5;241;43m.\u001b[39;49m\u001b[43mexact_wave_functions\u001b[49m\u001b[43m(\u001b[49m\u001b[43mparameters\u001b[49m\u001b[43m)\u001b[49m\n\u001b[1;32m      2\u001b[0m solutions_num \u001b[38;5;241m=\u001b[39m numerov_solvers[\u001b[38;5;241m0\u001b[39m]\u001b[38;5;241m.\u001b[39mexact_wave_functions(parameters)\n",
      "File \u001b[0;32m~/umich/rose/src/rose/scattering_amplitude_emulator.py:494\u001b[0m, in \u001b[0;36mScatteringAmplitudeEmulator.exact_wave_functions\u001b[0;34m(self, theta, s_mesh, **solver_kwargs)\u001b[0m\n\u001b[1;32m    479\u001b[0m \u001b[38;5;250m\u001b[39m\u001b[38;5;124mr\u001b[39m\u001b[38;5;124;03m\"\"\"Gives the wave functions for each partial wave.  Returns a list of\u001b[39;00m\n\u001b[1;32m    480\u001b[0m \u001b[38;5;124;03m    arrays.  Order is [l=0, l=1, ..., l=l_max-1].\u001b[39;00m\n\u001b[1;32m    481\u001b[0m \n\u001b[0;32m   (...)\u001b[0m\n\u001b[1;32m    491\u001b[0m \n\u001b[1;32m    492\u001b[0m \u001b[38;5;124;03m\"\"\"\u001b[39;00m\n\u001b[1;32m    493\u001b[0m \u001b[38;5;28;01mif\u001b[39;00m s_mesh \u001b[38;5;129;01mis\u001b[39;00m \u001b[38;5;28;01mNone\u001b[39;00m:\n\u001b[0;32m--> 494\u001b[0m     \u001b[38;5;28;01mreturn\u001b[39;00m [\n\u001b[1;32m    495\u001b[0m         [\n\u001b[1;32m    496\u001b[0m             x\u001b[38;5;241m.\u001b[39mbasis\u001b[38;5;241m.\u001b[39msolver\u001b[38;5;241m.\u001b[39mphi(\n\u001b[1;32m    497\u001b[0m                 theta, x\u001b[38;5;241m.\u001b[39ms_mesh, x\u001b[38;5;241m.\u001b[39minteraction\u001b[38;5;241m.\u001b[39mell, \u001b[38;5;241m*\u001b[39m\u001b[38;5;241m*\u001b[39msolver_kwargs\n\u001b[1;32m    498\u001b[0m             )\n\u001b[1;32m    499\u001b[0m             \u001b[38;5;28;01mfor\u001b[39;00m x \u001b[38;5;129;01min\u001b[39;00m rbe\n\u001b[1;32m    500\u001b[0m         ]\n\u001b[1;32m    501\u001b[0m         \u001b[38;5;28;01mfor\u001b[39;00m rbe \u001b[38;5;129;01min\u001b[39;00m \u001b[38;5;28mself\u001b[39m\u001b[38;5;241m.\u001b[39mrbes\n\u001b[1;32m    502\u001b[0m     ]\n\u001b[1;32m    503\u001b[0m \u001b[38;5;28;01melse\u001b[39;00m:\n\u001b[1;32m    504\u001b[0m     \u001b[38;5;28;01mreturn\u001b[39;00m [\n\u001b[1;32m    505\u001b[0m         [\n\u001b[1;32m    506\u001b[0m             x\u001b[38;5;241m.\u001b[39mbasis\u001b[38;5;241m.\u001b[39msolver\u001b[38;5;241m.\u001b[39mphi(\n\u001b[0;32m   (...)\u001b[0m\n\u001b[1;32m    511\u001b[0m         \u001b[38;5;28;01mfor\u001b[39;00m rbe \u001b[38;5;129;01min\u001b[39;00m \u001b[38;5;28mself\u001b[39m\u001b[38;5;241m.\u001b[39mrbes\n\u001b[1;32m    512\u001b[0m     ]\n",
      "File \u001b[0;32m~/umich/rose/src/rose/scattering_amplitude_emulator.py:495\u001b[0m, in \u001b[0;36m<listcomp>\u001b[0;34m(.0)\u001b[0m\n\u001b[1;32m    479\u001b[0m \u001b[38;5;250m\u001b[39m\u001b[38;5;124mr\u001b[39m\u001b[38;5;124;03m\"\"\"Gives the wave functions for each partial wave.  Returns a list of\u001b[39;00m\n\u001b[1;32m    480\u001b[0m \u001b[38;5;124;03m    arrays.  Order is [l=0, l=1, ..., l=l_max-1].\u001b[39;00m\n\u001b[1;32m    481\u001b[0m \n\u001b[0;32m   (...)\u001b[0m\n\u001b[1;32m    491\u001b[0m \n\u001b[1;32m    492\u001b[0m \u001b[38;5;124;03m\"\"\"\u001b[39;00m\n\u001b[1;32m    493\u001b[0m \u001b[38;5;28;01mif\u001b[39;00m s_mesh \u001b[38;5;129;01mis\u001b[39;00m \u001b[38;5;28;01mNone\u001b[39;00m:\n\u001b[1;32m    494\u001b[0m     \u001b[38;5;28;01mreturn\u001b[39;00m [\n\u001b[0;32m--> 495\u001b[0m         [\n\u001b[1;32m    496\u001b[0m             x\u001b[38;5;241m.\u001b[39mbasis\u001b[38;5;241m.\u001b[39msolver\u001b[38;5;241m.\u001b[39mphi(\n\u001b[1;32m    497\u001b[0m                 theta, x\u001b[38;5;241m.\u001b[39ms_mesh, x\u001b[38;5;241m.\u001b[39minteraction\u001b[38;5;241m.\u001b[39mell, \u001b[38;5;241m*\u001b[39m\u001b[38;5;241m*\u001b[39msolver_kwargs\n\u001b[1;32m    498\u001b[0m             )\n\u001b[1;32m    499\u001b[0m             \u001b[38;5;28;01mfor\u001b[39;00m x \u001b[38;5;129;01min\u001b[39;00m rbe\n\u001b[1;32m    500\u001b[0m         ]\n\u001b[1;32m    501\u001b[0m         \u001b[38;5;28;01mfor\u001b[39;00m rbe \u001b[38;5;129;01min\u001b[39;00m \u001b[38;5;28mself\u001b[39m\u001b[38;5;241m.\u001b[39mrbes\n\u001b[1;32m    502\u001b[0m     ]\n\u001b[1;32m    503\u001b[0m \u001b[38;5;28;01melse\u001b[39;00m:\n\u001b[1;32m    504\u001b[0m     \u001b[38;5;28;01mreturn\u001b[39;00m [\n\u001b[1;32m    505\u001b[0m         [\n\u001b[1;32m    506\u001b[0m             x\u001b[38;5;241m.\u001b[39mbasis\u001b[38;5;241m.\u001b[39msolver\u001b[38;5;241m.\u001b[39mphi(\n\u001b[0;32m   (...)\u001b[0m\n\u001b[1;32m    511\u001b[0m         \u001b[38;5;28;01mfor\u001b[39;00m rbe \u001b[38;5;129;01min\u001b[39;00m \u001b[38;5;28mself\u001b[39m\u001b[38;5;241m.\u001b[39mrbes\n\u001b[1;32m    512\u001b[0m     ]\n",
      "File \u001b[0;32m~/umich/rose/src/rose/scattering_amplitude_emulator.py:496\u001b[0m, in \u001b[0;36m<listcomp>\u001b[0;34m(.0)\u001b[0m\n\u001b[1;32m    479\u001b[0m \u001b[38;5;250m\u001b[39m\u001b[38;5;124mr\u001b[39m\u001b[38;5;124;03m\"\"\"Gives the wave functions for each partial wave.  Returns a list of\u001b[39;00m\n\u001b[1;32m    480\u001b[0m \u001b[38;5;124;03m    arrays.  Order is [l=0, l=1, ..., l=l_max-1].\u001b[39;00m\n\u001b[1;32m    481\u001b[0m \n\u001b[0;32m   (...)\u001b[0m\n\u001b[1;32m    491\u001b[0m \n\u001b[1;32m    492\u001b[0m \u001b[38;5;124;03m\"\"\"\u001b[39;00m\n\u001b[1;32m    493\u001b[0m \u001b[38;5;28;01mif\u001b[39;00m s_mesh \u001b[38;5;129;01mis\u001b[39;00m \u001b[38;5;28;01mNone\u001b[39;00m:\n\u001b[1;32m    494\u001b[0m     \u001b[38;5;28;01mreturn\u001b[39;00m [\n\u001b[1;32m    495\u001b[0m         [\n\u001b[0;32m--> 496\u001b[0m             \u001b[43mx\u001b[49m\u001b[38;5;241;43m.\u001b[39;49m\u001b[43mbasis\u001b[49m\u001b[38;5;241;43m.\u001b[39;49m\u001b[43msolver\u001b[49m\u001b[38;5;241;43m.\u001b[39;49m\u001b[43mphi\u001b[49m\u001b[43m(\u001b[49m\n\u001b[1;32m    497\u001b[0m \u001b[43m                \u001b[49m\u001b[43mtheta\u001b[49m\u001b[43m,\u001b[49m\u001b[43m \u001b[49m\u001b[43mx\u001b[49m\u001b[38;5;241;43m.\u001b[39;49m\u001b[43ms_mesh\u001b[49m\u001b[43m,\u001b[49m\u001b[43m \u001b[49m\u001b[43mx\u001b[49m\u001b[38;5;241;43m.\u001b[39;49m\u001b[43minteraction\u001b[49m\u001b[38;5;241;43m.\u001b[39;49m\u001b[43mell\u001b[49m\u001b[43m,\u001b[49m\u001b[43m \u001b[49m\u001b[38;5;241;43m*\u001b[39;49m\u001b[38;5;241;43m*\u001b[39;49m\u001b[43msolver_kwargs\u001b[49m\n\u001b[1;32m    498\u001b[0m \u001b[43m            \u001b[49m\u001b[43m)\u001b[49m\n\u001b[1;32m    499\u001b[0m             \u001b[38;5;28;01mfor\u001b[39;00m x \u001b[38;5;129;01min\u001b[39;00m rbe\n\u001b[1;32m    500\u001b[0m         ]\n\u001b[1;32m    501\u001b[0m         \u001b[38;5;28;01mfor\u001b[39;00m rbe \u001b[38;5;129;01min\u001b[39;00m \u001b[38;5;28mself\u001b[39m\u001b[38;5;241m.\u001b[39mrbes\n\u001b[1;32m    502\u001b[0m     ]\n\u001b[1;32m    503\u001b[0m \u001b[38;5;28;01melse\u001b[39;00m:\n\u001b[1;32m    504\u001b[0m     \u001b[38;5;28;01mreturn\u001b[39;00m [\n\u001b[1;32m    505\u001b[0m         [\n\u001b[1;32m    506\u001b[0m             x\u001b[38;5;241m.\u001b[39mbasis\u001b[38;5;241m.\u001b[39msolver\u001b[38;5;241m.\u001b[39mphi(\n\u001b[0;32m   (...)\u001b[0m\n\u001b[1;32m    511\u001b[0m         \u001b[38;5;28;01mfor\u001b[39;00m rbe \u001b[38;5;129;01min\u001b[39;00m \u001b[38;5;28mself\u001b[39m\u001b[38;5;241m.\u001b[39mrbes\n\u001b[1;32m    512\u001b[0m     ]\n",
      "File \u001b[0;32m~/umich/rose/src/rose/schroedinger.py:214\u001b[0m, in \u001b[0;36mSchroedingerEquation.phi\u001b[0;34m(self, alpha, s_mesh, rho_0, phi_threshold, **kwargs)\u001b[0m\n\u001b[1;32m    188\u001b[0m \u001b[38;5;28;01mdef\u001b[39;00m \u001b[38;5;21mphi\u001b[39m(\n\u001b[1;32m    189\u001b[0m     \u001b[38;5;28mself\u001b[39m,\n\u001b[1;32m    190\u001b[0m     alpha: np\u001b[38;5;241m.\u001b[39marray,\n\u001b[0;32m   (...)\u001b[0m\n\u001b[1;32m    194\u001b[0m     \u001b[38;5;241m*\u001b[39m\u001b[38;5;241m*\u001b[39mkwargs,\n\u001b[1;32m    195\u001b[0m ):\n\u001b[1;32m    196\u001b[0m \u001b[38;5;250m    \u001b[39m\u001b[38;5;124mr\u001b[39m\u001b[38;5;124;03m\"\"\"Computes the reduced, radial wave function $\\phi$ (or $u$) on `s_mesh` using the\u001b[39;00m\n\u001b[1;32m    197\u001b[0m \u001b[38;5;124;03m    Runge-Kutta method\u001b[39;00m\n\u001b[1;32m    198\u001b[0m \n\u001b[0;32m   (...)\u001b[0m\n\u001b[1;32m    209\u001b[0m \n\u001b[1;32m    210\u001b[0m \u001b[38;5;124;03m    \"\"\"\u001b[39;00m\n\u001b[1;32m    211\u001b[0m     solution, rho_0 \u001b[38;5;241m=\u001b[39m \u001b[38;5;28mself\u001b[39m\u001b[38;5;241m.\u001b[39msolve_se(\n\u001b[1;32m    212\u001b[0m         alpha,\n\u001b[1;32m    213\u001b[0m         [rho_0, s_mesh[\u001b[38;5;241m-\u001b[39m\u001b[38;5;241m1\u001b[39m]],\n\u001b[0;32m--> 214\u001b[0m         \u001b[43ml\u001b[49m,\n\u001b[1;32m    215\u001b[0m         rho_0\u001b[38;5;241m=\u001b[39mrho_0,\n\u001b[1;32m    216\u001b[0m         phi_threshold\u001b[38;5;241m=\u001b[39mphi_threshold,\n\u001b[1;32m    217\u001b[0m         \u001b[38;5;241m*\u001b[39m\u001b[38;5;241m*\u001b[39mkwargs,\n\u001b[1;32m    218\u001b[0m     )\n\u001b[1;32m    220\u001b[0m     mask \u001b[38;5;241m=\u001b[39m np\u001b[38;5;241m.\u001b[39mwhere(s_mesh \u001b[38;5;241m<\u001b[39m rho_0)\n\u001b[1;32m    221\u001b[0m     y \u001b[38;5;241m=\u001b[39m solution(s_mesh)[\u001b[38;5;241m0\u001b[39m]\n",
      "\u001b[0;31mNameError\u001b[0m: name 'l' is not defined"
     ]
    }
   ],
   "source": [
    "solutions_rk = ground_truth.exact_wave_functions(parameters)\n",
    "solutions_num = numerov_solvers[0].exact_wave_functions(parameters)"
   ]
  },
  {
   "cell_type": "markdown",
   "id": "ed19570f",
   "metadata": {},
   "source": [
    "Now let's plot a few of the radial wavefunctions to compare:"
   ]
  },
  {
   "cell_type": "code",
   "execution_count": null,
   "id": "df3daa21",
   "metadata": {},
   "outputs": [],
   "source": [
    "from rose.training import compare_partial_waves\n",
    "#TODO wavefunction normalization convention\n",
    "for l in range(len(solutions_rk)):\n",
    "    for j in range(len(solutions_rk[l])):\n",
    "        solutions_num[l][j] *= (\n",
    "            np.max(solutions_rk[l][j].real) / np.max(solutions_num[l][j].real))\n",
    "\n",
    "fig, (ax1, ax2) = plt.subplots(1, 2, figsize=(9, 4), dpi=300)\n",
    "fig.patch.set_facecolor(\"white\")\n",
    "\n",
    "compare_partial_waves(\n",
    "    s_mesh,\n",
    "    [solutions_rk[0:3], solutions_num[0:3]],\n",
    "    [\"Runge-Kutta\", \"Numerov\"],\n",
    "    fig,\n",
    "    ax1,\n",
    "    ax2,\n",
    ")"
   ]
  },
  {
   "cell_type": "markdown",
   "id": "07a163c3",
   "metadata": {},
   "source": [
    "Let's take a look at the phase shifts as well:"
   ]
  },
  {
   "cell_type": "code",
   "execution_count": null,
   "id": "1022199d",
   "metadata": {},
   "outputs": [],
   "source": [
    "deltas_rk = ground_truth.exact_phase_shifts(parameters)\n",
    "deltas_numerov = numerov_solvers[1].exact_phase_shifts(parameters)"
   ]
  },
  {
   "cell_type": "code",
   "execution_count": null,
   "id": "5af837d0",
   "metadata": {},
   "outputs": [],
   "source": [
    "from rose.training import plot_phase_shifts, compare_phase_shifts_err\n",
    "from matplotlib import ticker\n",
    "\n",
    "fig, ((ax1, ax2), (ax3, ax4)) = plt.subplots(\n",
    "    2, 2, sharex=True, figsize=(9, 5), height_ratios=[1, 0.5], dpi=300\n",
    ")\n",
    "fig.patch.set_facecolor(\"white\")\n",
    "\n",
    "compare_phase_shifts_err(\n",
    "    deltas_rk,\n",
    "    deltas_numerov,\n",
    "    \"Runge-Kutta\",\n",
    "    \"Numerov\",\n",
    "    fig,\n",
    "    ax1,\n",
    "    ax2,\n",
    "    ax3,\n",
    "    ax4,\n",
    "    small_label1=\"RK\",\n",
    "    small_label2=\"N\",\n",
    ")\n",
    "\n",
    "plt.tight_layout()"
   ]
  },
  {
   "cell_type": "markdown",
   "id": "7cb56413",
   "metadata": {},
   "source": [
    "Great, now that we see our solvers produce the same wavefunctions (up to normalization), and phase shifts, let's do a CAT analysis to compare them more rigorously. We will compare differential cross sections at a given energy."
   ]
  },
  {
   "cell_type": "code",
   "execution_count": null,
   "id": "d3118104",
   "metadata": {},
   "outputs": [],
   "source": [
    "# grab some sample parameters\n",
    "test_samples = rose.training.sample_params_LHC(100, parameters, 0.8, seed=13)"
   ]
  },
  {
   "cell_type": "markdown",
   "id": "030cf0bc",
   "metadata": {},
   "source": [
    "Let's compare the highest and lowest fidelity Runge-Kutta differential cross sections:"
   ]
  },
  {
   "cell_type": "code",
   "execution_count": null,
   "id": "8b6043d6",
   "metadata": {},
   "outputs": [],
   "source": [
    "%%time\n",
    "# calculate ground truth differential cross sections for each sample\n",
    "ground_truth_output = []\n",
    "for sample in test_samples:\n",
    "    ground_truth_output.append(ground_truth.exact_xs(sample).dsdo)"
   ]
  },
  {
   "cell_type": "code",
   "execution_count": null,
   "id": "a623467c",
   "metadata": {},
   "outputs": [],
   "source": [
    "%%time\n",
    "# calculate lowfi differential cross sections for each sample to compare\n",
    "lowfi_solver = numerov_solvers[0]\n",
    "lowfi_method = \"Numerov dx={:1.0e}\".format(numerov_dx[0])\n",
    "lowfi_output = []\n",
    "\n",
    "for sample in test_samples:\n",
    "    lowfi_output.append(lowfi_solver.exact_xs(sample).dsdo)"
   ]
  },
  {
   "cell_type": "markdown",
   "id": "61f90ecb",
   "metadata": {},
   "source": [
    "Before we go any further, let's just take a look at a few of  the cross sections from our hifi and lowfi solvers:"
   ]
  },
  {
   "cell_type": "code",
   "execution_count": null,
   "id": "d55624f2",
   "metadata": {},
   "outputs": [],
   "source": [
    "fig, ax = plt.subplots(figsize=(9, 4), dpi=300)\n",
    "fig.patch.set_facecolor(\"white\")\n",
    "\n",
    "from matplotlib.lines import Line2D\n",
    "from rose.training import multiple_formatter\n",
    "# only plot a few\n",
    "n = 6\n",
    "for xs_hifi, xs_lowfi in zip(ground_truth_output[0:n], lowfi_output[0:n]):\n",
    "    p = ax.plot(angles, xs_hifi, alpha=0.5)[0]\n",
    "    ax.plot(angles, xs_lowfi, \"--\", color=p.get_color(), alpha=0.5)\n",
    "\n",
    "legend_styles = [\n",
    "    Line2D([0], [0], color=\"tab:gray\", linestyle=\"--\", alpha=0.8),\n",
    "    Line2D([0], [0], color=\"tab:gray\", alpha=0.8),\n",
    "]\n",
    "leg = plt.legend(\n",
    "    legend_styles,\n",
    "    [lowfi_method, \"Runge-Kutta [1e-12, 1e-12]\",],\n",
    "    loc=\"upper left\",\n",
    ")\n",
    "\n",
    "ax.xaxis.set_major_locator(plt.MultipleLocator(np.pi/6))\n",
    "ax.xaxis.set_major_formatter(plt.FuncFormatter(multiple_formatter(denominator=6)))\n",
    "ax.set_yscale(\"log\")\n",
    "ax.set_ylabel(r\"$ \\sigma / \\sigma_{\\rm{Rutherford}} $\")\n",
    "ax.set_xlabel(r\"$\\theta$ [radians]\")"
   ]
  },
  {
   "cell_type": "markdown",
   "id": "c4ea4c9c",
   "metadata": {},
   "source": [
    "Now let's do a full computational accuracy vs. time (CAT) analysis for all of our interaction parameter samples, to see how the solvers compare."
   ]
  },
  {
   "cell_type": "code",
   "execution_count": null,
   "id": "ace9da7a",
   "metadata": {},
   "outputs": [],
   "source": [
    "%%time\n",
    "# make CAT peformance data sets for each solver\n",
    "from rose.training import CATPerformance\n",
    "\n",
    "rk_solver_performances = []\n",
    "for solver, tols in zip(rk_solvers, rk_tolerances):\n",
    "    label = r\"$\\left[{:1.0e} , {:1.0e}\\right]$\".format(*tols)\n",
    "    rk_solver_performances.append(\n",
    "        CATPerformance(\n",
    "            benchmark_runner=lambda sample: solver.exact_xs(sample).dsdo,\n",
    "            benchmark_inputs=test_samples,\n",
    "            benchmark_ground_truth=ground_truth_output,\n",
    "            label=label,\n",
    "        )\n",
    "    )"
   ]
  },
  {
   "cell_type": "code",
   "execution_count": null,
   "id": "dd076e2c",
   "metadata": {},
   "outputs": [],
   "source": [
    "%%time\n",
    "numerov_solver_performances = []\n",
    "for solver, dx in zip(numerov_solvers, numerov_dx):\n",
    "    label = r\"$dx  = {:1.0e}$\".format(dx)\n",
    "    numerov_solver_performances.append(\n",
    "        CATPerformance(\n",
    "            benchmark_runner=lambda sample: solver.exact_xs(sample).dsdo,\n",
    "            benchmark_inputs=test_samples,\n",
    "            benchmark_ground_truth=ground_truth_output,\n",
    "            label=label,\n",
    "        )\n",
    "    )"
   ]
  },
  {
   "cell_type": "code",
   "execution_count": null,
   "id": "94999a55",
   "metadata": {},
   "outputs": [],
   "source": [
    "# plot the Computational Accuracy vs. Time (CAT)\n",
    "from rose.training import CAT_plot\n",
    "fig, ax = CAT_plot( [rk_solver_performances , numerov_solver_performances], \n",
    "                   labels=[\"Runge-Kutta\\n[rtol, atol]\", \"@njit Numerov\"], border_styles=[\":\", \"-\"] )\n",
    "ax.set_ylabel(r\"median relative error in $\\sigma / \\sigma_{\\rm{Rutherford}}$ [%]\")\n",
    "#plt.ylim([10e-8, 100])\n",
    "plt.xscale(\"linear\")"
   ]
  },
  {
   "cell_type": "code",
   "execution_count": null,
   "id": "59d0cc05",
   "metadata": {},
   "outputs": [],
   "source": [
    "# write the perf metrics to disk for easy reference later\n",
    "import pickle\n",
    "for perf, tols in zip(rk_solver_performances, rk_tolerances):\n",
    "    label = \"RK_{:1.0e}_{:1.0e}\".format(*tols)\n",
    "    with open(\"perf_{}.pkl\".format(label), 'wb') as f:\n",
    "        pickle.dump(perf, f)\n",
    "    \n",
    "for perf, dx in zip(numerov_solver_performances, numerov_dx):\n",
    "    label = \"dx_{:1.0e}\".format(dx)\n",
    "    with open(\"perf_{}.pkl\".format(label), 'wb') as f:\n",
    "        pickle.dump(perf, f)"
   ]
  }
 ],
 "metadata": {
  "kernelspec": {
   "display_name": "Python 3 (ipykernel)",
   "language": "python",
   "name": "python3"
  },
  "language_info": {
   "codemirror_mode": {
    "name": "ipython",
    "version": 3
   },
   "file_extension": ".py",
   "mimetype": "text/x-python",
   "name": "python",
   "nbconvert_exporter": "python",
   "pygments_lexer": "ipython3",
   "version": "3.10.12"
  }
 },
 "nbformat": 4,
 "nbformat_minor": 5
}
