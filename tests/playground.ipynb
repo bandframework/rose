{
 "cells": [
  {
   "cell_type": "code",
   "execution_count": 1,
   "id": "f8c45d03",
   "metadata": {},
   "outputs": [],
   "source": [
    "import numpy as np\n",
    "import matplotlib.pyplot as plt\n",
    "\n",
    "import rose\n",
    "\n",
    "plt.style.use('science')\n",
    "gr = (1 + np.sqrt(5)) / 2\n",
    "h = 3"
   ]
  },
  {
   "cell_type": "code",
   "execution_count": 2,
   "id": "5d5b70fc",
   "metadata": {},
   "outputs": [],
   "source": [
    "energy = 50 # MeV\n",
    "theta = np.array([200,-91.85])\n",
    "training_points = np.array([\n",
    "    [119.51219512195122, -14.634146341463415],\n",
    "    [139.02439024390245, -4.878048780487805],\n",
    "    [158.53658536585365, -48.78048780487805],\n",
    "    [178.0487804878049, -117.07317073170732],\n",
    "    [197.5609756097561, -131.70731707317074],\n",
    "    [217.0731707317073, -126.82926829268293],\n",
    "    [236.58536585365854, -82.92682926829268],\n",
    "    [256.0975609756098, -175.609756097561],\n",
    "    [275.609756097561, -19.51219512195122],\n",
    "    [295.1219512195122, -170.73170731707316]\n",
    "])"
   ]
  },
  {
   "cell_type": "code",
   "execution_count": 3,
   "id": "95fb70c3",
   "metadata": {},
   "outputs": [],
   "source": [
    "rbe = rose.ReducedBasisEmulator(\n",
    "    rose.MN_Potential,\n",
    "    training_points,\n",
    "    energy,\n",
    "    0\n",
    ")"
   ]
  },
  {
   "cell_type": "code",
   "execution_count": 5,
   "id": "2f32f675",
   "metadata": {},
   "outputs": [
    {
     "name": "stdout",
     "output_type": "stream",
     "text": [
      "Wave function residuals (root of sum of squares):\n",
      "50% and 95% quantiles\n",
      "2.1509e-01  9.5010e-01\n",
      "Phase shift residuals (relative difference):\n",
      "50\\% and 95% quantiles\n",
      "9.1217e-03  4.4735e-02\n"
     ]
    }
   ],
   "source": [
    "rbe.run_metrics('benchmark_data_MN_Potential_E_50.00_MeV.pkl', verbose=True);"
   ]
  },
  {
   "cell_type": "code",
   "execution_count": null,
   "id": "b5921918",
   "metadata": {},
   "outputs": [],
   "source": []
  }
 ],
 "metadata": {
  "kernelspec": {
   "display_name": "Python 3.10.1 64-bit",
   "language": "python",
   "name": "python3"
  },
  "language_info": {
   "codemirror_mode": {
    "name": "ipython",
    "version": 3
   },
   "file_extension": ".py",
   "mimetype": "text/x-python",
   "name": "python",
   "nbconvert_exporter": "python",
   "pygments_lexer": "ipython3",
   "version": "3.10.1"
  },
  "vscode": {
   "interpreter": {
    "hash": "98590ff4fe04c8543246b2a01debd3de3c5ca9b666f43f1fa87d5110c692004c"
   }
  }
 },
 "nbformat": 4,
 "nbformat_minor": 5
}
